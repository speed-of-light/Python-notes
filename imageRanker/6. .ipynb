{
 "metadata": {
  "name": "6. "
 },
 "nbformat": 3,
 "nbformat_minor": 0,
 "worksheets": [
  {
   "cells": [
    {
     "cell_type": "code",
     "collapsed": false,
     "input": [
      "import os\n",
      "from __future__ import division\n",
      "\n",
      "import pandas as pd\n",
      "\n",
      "import matplotlib.mlab as mlab\n",
      "import matplotlib.pyplot as mplt\n",
      "import matplotlib.image as mimg\n",
      "import matplotlib.colors as mclr\n",
      "import matplotlib.cm as mcm\n",
      "from mpl_toolkits.mplot3d import Axes3D\n",
      "\n",
      "from sklearn import linear_model as sklm\n",
      "from sklearn import decomposition as skd\n",
      "from sklearn.gaussian_process import GaussianProcess as skgaussian\n",
      "from sklearn import neighbors as skNeighbors\n",
      "\n",
      "import scipy.ndimage as ndimage\n",
      "\n",
      "path_ds = os.path.expanduser('~')+'/projects/ipranker/dataset'\n",
      "path_train = path_ds + '/training'\n",
      "path_test = path_ds + '/testing'\n",
      "\n",
      "class ProgressBar:\n",
      "    def __init__(self, iterations):\n",
      "        self.iterations = iterations\n",
      "        self.prog_bar = '[]'\n",
      "        self.fill_char = '*'\n",
      "        self.width = 50\n",
      "        self.__update_amount(0)\n",
      "\n",
      "    def animate(self, iter):\n",
      "        print '\\r', self,\n",
      "        sys.stdout.flush()\n",
      "        self.update_iteration(iter + 1)\n",
      "\n",
      "    def update_iteration(self, elapsed_iter):\n",
      "        self.__update_amount((elapsed_iter / float(self.iterations)) * 100.0)\n",
      "        self.prog_bar += '  %d of %s complete' % (elapsed_iter, self.iterations)\n",
      "\n",
      "    def __update_amount(self, new_amount):\n",
      "        percent_done = int(round((new_amount / 100.0) * 100.0))\n",
      "        all_full = self.width - 2\n",
      "        num_hashes = int(round((percent_done / 100.0) * all_full))\n",
      "        self.prog_bar = '[' + self.fill_char * num_hashes + ' ' * (all_full - num_hashes) + ']'\n",
      "        pct_place = (len(self.prog_bar) // 2) - len(str(percent_done))\n",
      "        pct_string = '%d%%' % percent_done\n",
      "        self.prog_bar = self.prog_bar[0:pct_place] + \\\n",
      "            (pct_string + self.prog_bar[pct_place + len(pct_string):])\n",
      "\n",
      "    def __str__(self):\n",
      "        return str(self.prog_bar)\n",
      "\n",
      "goldenR=.6189\n",
      "goldenL=.3819\n",
      "import cv2"
     ],
     "language": "python",
     "metadata": {},
     "outputs": [],
     "prompt_number": 3
    },
    {
     "cell_type": "code",
     "collapsed": false,
     "input": [
      "%time ilTrain = ImageSet(path_train)\n",
      "%time ilTest = ImageSet(path_test)\n",
      "trGround = pd.read_csv(path_ds+'/training.csv', index_col=0)\n",
      "tsGround = pd.read_csv(path_ds+'/testing.csv', index_col=0)"
     ],
     "language": "python",
     "metadata": {},
     "outputs": [
      {
       "output_type": "stream",
       "stream": "stdout",
       "text": [
        "CPU times: user 2.59 s, sys: 449 ms, total: 3.04 s\n",
        "Wall time: 3.55 s\n",
        "CPU times: user 758 ms, sys: 114 ms, total: 872 ms"
       ]
      },
      {
       "output_type": "stream",
       "stream": "stdout",
       "text": [
        "\n",
        "Wall time: 1.02 s\n"
       ]
      }
     ],
     "prompt_number": 2
    },
    {
     "cell_type": "code",
     "collapsed": false,
     "input": [
      "def getKeypointsFrom(img, by_method='SURF'):\n",
      "    im2 = cv2.imread(img.filename)\n",
      "    im = cv2.cvtColor(im2, cv2.COLOR_BGR2GRAY)\n",
      "    featsDetector = cv2.FeatureDetector_create(by_method)\n",
      "    kps = featsDetector.detect(im)\n",
      "    descExctractor = cv2.DescriptorExtractor_create(by_method)\n",
      "    kps, descriptors = descExctractor.compute(im, kps)\n",
      "    return kps, descriptors\n",
      "\n",
      "def distance(a, b):\n",
      "    d = np.sqrt( (a[0]-b[0])**2 +(a[1]-b[1])**2)\n",
      "    return d"
     ],
     "language": "python",
     "metadata": {},
     "outputs": [],
     "prompt_number": 4
    },
    {
     "cell_type": "code",
     "collapsed": false,
     "input": [
      "def getKeyFeats(img, gnd, index):\n",
      "    keyDf = pd.DataFrame(columns=['iindex', 'resp', 'angle', 'size', 'tr', 'tl', 'br', 'bl', 'cc', 'gtr', 'gtl', 'gbr', 'gbl', 'desc', 'score', 'ndclass'])\n",
      "    kps, descs = getKeypointsFrom(img)\n",
      "    pr1 = int(len(kps) * 0.01) + 1\n",
      "    \n",
      "    w,h = img.width, img.height\n",
      "    glen = [ np.sqrt((w/3)**2 + (h/3)**2), np.sqrt((w*0.236)**2 + (h*0.236)**2)]\n",
      "    Gsw = {'tr': (w*2/3, h/3),    'tl': (w/3, h/3), \n",
      "           'br': (w*2/3, h*2/3),  'bl': (w/3, h*2/3), 'cc': (w/2, h/2),\n",
      "           'gtr': (w*goldenR, h*goldenL),  'gtl': (w*goldenL, h*goldenL), \n",
      "           'gbr': (w*goldenR, h*goldenR),  'gbl': (w*goldenL, h*goldenR)}\n",
      "    \n",
      "    tolerance = 10\n",
      "    \n",
      "    for k,d in zip(kps, descs):\n",
      "        kd = { 'iindex': index, 'resp': k.response, 'angle': k.angle, 'size': k.size, 'desc': d, 'score': gnd['score'], 'ndclass': gnd['ndclass']}\n",
      "        Rs = {'tr': 0, 'tl':0, 'br': 0, 'bl': 0, 'cc': 0, 'gtr': 0, 'gtl': 0, 'gbr': 0, 'gbl': 0, 'r': 0}\n",
      "        for g,l in zip(Gsw, [0,0,0,0,0,1,1,1,1,1]):\n",
      "            rfactor = min(1, k.size/(2*glen[l]))\n",
      "            Rs[g]= (1- min( 1, (6*distance(k.pt, Gsw[g]))/(glen[l]*tolerance)))\n",
      "        keyDf = keyDf.append( dict(Rs.items() + kd.items()), ignore_index=1)\n",
      "        if len(keyDf) >= pr1: break\n",
      "            \n",
      "    \n",
      "    return keyDf\n",
      "\n",
      "def buildKeyFeatsTable(imgset, imggnd):\n",
      "    p = ProgressBar(len(imgset))\n",
      "    fkeyDf = pd.DataFrame()\n",
      "    for i, img in enumerate(imgset, 1):\n",
      "        p.animate(i)\n",
      "        keyDf = getKeyFeats(img, imggnd.irow(i-1), i)\n",
      "        fkeyDf = fkeyDf.append(keyDf)\n",
      "        \n",
      "    fkeyDf.index = np.arange(1, len(fkeyDf)+1)\n",
      "    return fkeyDf"
     ],
     "language": "python",
     "metadata": {},
     "outputs": [],
     "prompt_number": 58
    },
    {
     "cell_type": "code",
     "collapsed": false,
     "input": [
      "%time trKeyFeats = buildKeyFeatsTable(ilTrain, trGround)\n",
      "%time tsKeyFeats = buildKeyFeatsTable(ilTest, tsGround)"
     ],
     "language": "python",
     "metadata": {},
     "outputs": [
      {
       "output_type": "stream",
       "stream": "stdout",
       "text": [
        "\r",
        "[                       0%                       ]"
       ]
      },
      {
       "output_type": "stream",
       "stream": "stdout",
       "text": [
        " \r",
        "[                       1%                       ]  2 of 309 complete"
       ]
      },
      {
       "output_type": "stream",
       "stream": "stdout",
       "text": [
        " \r",
        "[                       1%                       ]  3 of 309 complete"
       ]
      },
      {
       "output_type": "stream",
       "stream": "stdout",
       "text": [
        " \r",
        "[                       1%                       ]  4 of 309 complete"
       ]
      },
      {
       "output_type": "stream",
       "stream": "stdout",
       "text": [
        " \r",
        "[*                      2%                       ]  5 of 309 complete"
       ]
      },
      {
       "output_type": "stream",
       "stream": "stdout",
       "text": [
        " \r",
        "[*                      2%                       ]  6 of 309 complete"
       ]
      },
      {
       "output_type": "stream",
       "stream": "stdout",
       "text": [
        " \r",
        "[*                      2%                       ]  7 of 309 complete"
       ]
      },
      {
       "output_type": "stream",
       "stream": "stdout",
       "text": [
        " \r",
        "[*                      3%                       ]  8 of 309 complete"
       ]
      },
      {
       "output_type": "stream",
       "stream": "stdout",
       "text": [
        " \r",
        "[*                      3%                       ]  9 of 309 complete"
       ]
      },
      {
       "output_type": "stream",
       "stream": "stdout",
       "text": [
        " \r",
        "[*                      3%                       ]  10 of 309 complete"
       ]
      },
      {
       "output_type": "stream",
       "stream": "stdout",
       "text": [
        " \r",
        "[**                     4%                       ]  11 of 309 complete"
       ]
      },
      {
       "output_type": "stream",
       "stream": "stdout",
       "text": [
        " \r",
        "[**                     4%                       ]  12 of 309 complete"
       ]
      },
      {
       "output_type": "stream",
       "stream": "stdout",
       "text": [
        " \r",
        "[**                     4%                       ]  13 of 309 complete"
       ]
      },
      {
       "output_type": "stream",
       "stream": "stdout",
       "text": [
        " \r",
        "[**                     5%                       ]  14 of 309 complete"
       ]
      },
      {
       "output_type": "stream",
       "stream": "stdout",
       "text": [
        " \r",
        "[**                     5%                       ]  15 of 309 complete"
       ]
      },
      {
       "output_type": "stream",
       "stream": "stdout",
       "text": [
        " \r",
        "[**                     5%                       ]  16 of 309 complete"
       ]
      },
      {
       "output_type": "stream",
       "stream": "stdout",
       "text": [
        " \r",
        "[***                    6%                       ]  17 of 309 complete"
       ]
      },
      {
       "output_type": "stream",
       "stream": "stdout",
       "text": [
        " \r",
        "[***                    6%                       ]  18 of 309 complete"
       ]
      },
      {
       "output_type": "stream",
       "stream": "stdout",
       "text": [
        " \r",
        "[***                    6%                       ]  19 of 309 complete"
       ]
      },
      {
       "output_type": "stream",
       "stream": "stdout",
       "text": [
        " \r",
        "[***                    6%                       ]  20 of 309 complete"
       ]
      },
      {
       "output_type": "stream",
       "stream": "stdout",
       "text": [
        " \r",
        "[***                    7%                       ]  21 of 309 complete"
       ]
      },
      {
       "output_type": "stream",
       "stream": "stdout",
       "text": [
        " \r",
        "[***                    7%                       ]  22 of 309 complete"
       ]
      },
      {
       "output_type": "stream",
       "stream": "stdout",
       "text": [
        " \r",
        "[***                    7%                       ]  23 of 309 complete"
       ]
      },
      {
       "output_type": "stream",
       "stream": "stdout",
       "text": [
        " \r",
        "[****                   8%                       ]  24 of 309 complete"
       ]
      },
      {
       "output_type": "stream",
       "stream": "stdout",
       "text": [
        " \r",
        "[****                   8%                       ]  25 of 309 complete"
       ]
      },
      {
       "output_type": "stream",
       "stream": "stdout",
       "text": [
        " \r",
        "[****                   8%                       ]  26 of 309 complete"
       ]
      },
      {
       "output_type": "stream",
       "stream": "stdout",
       "text": [
        " \r",
        "[****                   9%                       ]  27 of 309 complete"
       ]
      },
      {
       "output_type": "stream",
       "stream": "stdout",
       "text": [
        " \r",
        "[****                   9%                       ]  28 of 309 complete"
       ]
      },
      {
       "output_type": "stream",
       "stream": "stdout",
       "text": [
        " \r",
        "[****                   9%                       ]  29 of 309 complete"
       ]
      },
      {
       "output_type": "stream",
       "stream": "stdout",
       "text": [
        " \r",
        "[*****                 10%                       ]  30 of 309 complete"
       ]
      },
      {
       "output_type": "stream",
       "stream": "stdout",
       "text": [
        " \r",
        "[*****                 10%                       ]  31 of 309 complete"
       ]
      },
      {
       "output_type": "stream",
       "stream": "stdout",
       "text": [
        " \r",
        "[*****                 10%                       ]  32 of 309 complete"
       ]
      },
      {
       "output_type": "stream",
       "stream": "stdout",
       "text": [
        " \r",
        "[*****                 11%                       ]  33 of 309 complete"
       ]
      },
      {
       "output_type": "stream",
       "stream": "stdout",
       "text": [
        " \r",
        "[*****                 11%                       ]  34 of 309 complete"
       ]
      },
      {
       "output_type": "stream",
       "stream": "stdout",
       "text": [
        " \r",
        "[*****                 11%                       ]  35 of 309 complete"
       ]
      },
      {
       "output_type": "stream",
       "stream": "stdout",
       "text": [
        " \r",
        "[******                12%                       ]  36 of 309 complete"
       ]
      },
      {
       "output_type": "stream",
       "stream": "stdout",
       "text": [
        " \r",
        "[******                12%                       ]  37 of 309 complete"
       ]
      },
      {
       "output_type": "stream",
       "stream": "stdout",
       "text": [
        " \r",
        "[******                12%                       ]  38 of 309 complete"
       ]
      },
      {
       "output_type": "stream",
       "stream": "stdout",
       "text": [
        " \r",
        "[******                13%                       ]  39 of 309 complete"
       ]
      },
      {
       "output_type": "stream",
       "stream": "stdout",
       "text": [
        " \r",
        "[******                13%                       ]  40 of 309 complete"
       ]
      },
      {
       "output_type": "stream",
       "stream": "stdout",
       "text": [
        " \r",
        "[******                13%                       ]  41 of 309 complete"
       ]
      },
      {
       "output_type": "stream",
       "stream": "stdout",
       "text": [
        " \r",
        "[*******               14%                       ]  42 of 309 complete"
       ]
      },
      {
       "output_type": "stream",
       "stream": "stdout",
       "text": [
        " \r",
        "[*******               14%                       ]  43 of 309 complete"
       ]
      },
      {
       "output_type": "stream",
       "stream": "stdout",
       "text": [
        " \r",
        "[*******               14%                       ]  44 of 309 complete"
       ]
      },
      {
       "output_type": "stream",
       "stream": "stdout",
       "text": [
        " \r",
        "[*******               15%                       ]  45 of 309 complete"
       ]
      },
      {
       "output_type": "stream",
       "stream": "stdout",
       "text": [
        " \r",
        "[*******               15%                       ]  46 of 309 complete"
       ]
      },
      {
       "output_type": "stream",
       "stream": "stdout",
       "text": [
        " \r",
        "[*******               15%                       ]  47 of 309 complete"
       ]
      },
      {
       "output_type": "stream",
       "stream": "stdout",
       "text": [
        " \r",
        "[********              16%                       ]  48 of 309 complete"
       ]
      },
      {
       "output_type": "stream",
       "stream": "stdout",
       "text": [
        " \r",
        "[********              16%                       ]  49 of 309 complete"
       ]
      },
      {
       "output_type": "stream",
       "stream": "stdout",
       "text": [
        " \r",
        "[********              16%                       ]  50 of 309 complete"
       ]
      },
      {
       "output_type": "stream",
       "stream": "stdout",
       "text": [
        " \r",
        "[********              17%                       ]  51 of 309 complete"
       ]
      },
      {
       "output_type": "stream",
       "stream": "stdout",
       "text": [
        " \r",
        "[********              17%                       ]  52 of 309 complete"
       ]
      },
      {
       "output_type": "stream",
       "stream": "stdout",
       "text": [
        " \r",
        "[********              17%                       ]  53 of 309 complete"
       ]
      },
      {
       "output_type": "stream",
       "stream": "stdout",
       "text": [
        " \r",
        "[********              17%                       ]  54 of 309 complete"
       ]
      },
      {
       "output_type": "stream",
       "stream": "stdout",
       "text": [
        " \r",
        "[*********             18%                       ]  55 of 309 complete"
       ]
      },
      {
       "output_type": "stream",
       "stream": "stdout",
       "text": [
        " \r",
        "[*********             18%                       ]  56 of 309 complete"
       ]
      },
      {
       "output_type": "stream",
       "stream": "stdout",
       "text": [
        " \r",
        "[*********             18%                       ]  57 of 309 complete"
       ]
      },
      {
       "output_type": "stream",
       "stream": "stdout",
       "text": [
        " \r",
        "[*********             19%                       ]  58 of 309 complete"
       ]
      },
      {
       "output_type": "stream",
       "stream": "stdout",
       "text": [
        " \r",
        "[*********             19%                       ]  59 of 309 complete"
       ]
      },
      {
       "output_type": "stream",
       "stream": "stdout",
       "text": [
        " \r",
        "[*********             19%                       ]  60 of 309 complete"
       ]
      },
      {
       "output_type": "stream",
       "stream": "stdout",
       "text": [
        " \r",
        "[**********            20%                       ]  61 of 309 complete"
       ]
      },
      {
       "output_type": "stream",
       "stream": "stdout",
       "text": [
        " \r",
        "[**********            20%                       ]  62 of 309 complete"
       ]
      },
      {
       "output_type": "stream",
       "stream": "stdout",
       "text": [
        " \r",
        "[**********            20%                       ]  63 of 309 complete"
       ]
      },
      {
       "output_type": "stream",
       "stream": "stdout",
       "text": [
        " \r",
        "[**********            21%                       ]  64 of 309 complete"
       ]
      },
      {
       "output_type": "stream",
       "stream": "stdout",
       "text": [
        " \r",
        "[**********            21%                       ]  65 of 309 complete"
       ]
      },
      {
       "output_type": "stream",
       "stream": "stdout",
       "text": [
        " \r",
        "[**********            21%                       ]  66 of 309 complete"
       ]
      },
      {
       "output_type": "stream",
       "stream": "stdout",
       "text": [
        " \r",
        "[***********           22%                       ]  67 of 309 complete"
       ]
      },
      {
       "output_type": "stream",
       "stream": "stdout",
       "text": [
        " \r",
        "[***********           22%                       ]  68 of 309 complete"
       ]
      },
      {
       "output_type": "stream",
       "stream": "stdout",
       "text": [
        " \r",
        "[***********           22%                       ]  69 of 309 complete"
       ]
      },
      {
       "output_type": "stream",
       "stream": "stdout",
       "text": [
        " \r",
        "[***********           23%                       ]  70 of 309 complete"
       ]
      },
      {
       "output_type": "stream",
       "stream": "stdout",
       "text": [
        " \r",
        "[***********           23%                       ]  71 of 309 complete"
       ]
      },
      {
       "output_type": "stream",
       "stream": "stdout",
       "text": [
        " \r",
        "[***********           23%                       ]  72 of 309 complete"
       ]
      },
      {
       "output_type": "stream",
       "stream": "stdout",
       "text": [
        " \r",
        "[************          24%                       ]  73 of 309 complete"
       ]
      },
      {
       "output_type": "stream",
       "stream": "stdout",
       "text": [
        " \r",
        "[************          24%                       ]  74 of 309 complete"
       ]
      },
      {
       "output_type": "stream",
       "stream": "stdout",
       "text": [
        " \r",
        "[************          24%                       ]  75 of 309 complete"
       ]
      },
      {
       "output_type": "stream",
       "stream": "stdout",
       "text": [
        " \r",
        "[************          25%                       ]  76 of 309 complete"
       ]
      },
      {
       "output_type": "stream",
       "stream": "stdout",
       "text": [
        " \r",
        "[************          25%                       ]  77 of 309 complete"
       ]
      },
      {
       "output_type": "stream",
       "stream": "stdout",
       "text": [
        " \r",
        "[************          25%                       ]  78 of 309 complete"
       ]
      },
      {
       "output_type": "stream",
       "stream": "stdout",
       "text": [
        " \r",
        "[************          26%                       ]  79 of 309 complete"
       ]
      },
      {
       "output_type": "stream",
       "stream": "stdout",
       "text": [
        " \r",
        "[************          26%                       ]  80 of 309 complete"
       ]
      },
      {
       "output_type": "stream",
       "stream": "stdout",
       "text": [
        " \r",
        "[************          26%                       ]  81 of 309 complete"
       ]
      },
      {
       "output_type": "stream",
       "stream": "stdout",
       "text": [
        " \r",
        "[*************         27%                       ]  82 of 309 complete"
       ]
      },
      {
       "output_type": "stream",
       "stream": "stdout",
       "text": [
        " \r",
        "[*************         27%                       ]  83 of 309 complete"
       ]
      },
      {
       "output_type": "stream",
       "stream": "stdout",
       "text": [
        " \r",
        "[*************         27%                       ]  84 of 309 complete"
       ]
      },
      {
       "output_type": "stream",
       "stream": "stdout",
       "text": [
        " \r",
        "[*************         28%                       ]  85 of 309 complete"
       ]
      },
      {
       "output_type": "stream",
       "stream": "stdout",
       "text": [
        " \r",
        "[*************         28%                       ]  86 of 309 complete"
       ]
      },
      {
       "output_type": "stream",
       "stream": "stdout",
       "text": [
        " \r",
        "[*************         28%                       ]  87 of 309 complete"
       ]
      },
      {
       "output_type": "stream",
       "stream": "stdout",
       "text": [
        " \r",
        "[*************         28%                       ]  88 of 309 complete"
       ]
      },
      {
       "output_type": "stream",
       "stream": "stdout",
       "text": [
        " \r",
        "[**************        29%                       ]  89 of 309 complete"
       ]
      },
      {
       "output_type": "stream",
       "stream": "stdout",
       "text": [
        " \r",
        "[**************        29%                       ]  90 of 309 complete"
       ]
      },
      {
       "output_type": "stream",
       "stream": "stdout",
       "text": [
        " \r",
        "[**************        29%                       ]  91 of 309 complete"
       ]
      },
      {
       "output_type": "stream",
       "stream": "stdout",
       "text": [
        " \r",
        "[**************        30%                       ]  92 of 309 complete"
       ]
      },
      {
       "output_type": "stream",
       "stream": "stdout",
       "text": [
        " \r",
        "[**************        30%                       ]  93 of 309 complete"
       ]
      },
      {
       "output_type": "stream",
       "stream": "stdout",
       "text": [
        " \r",
        "[**************        30%                       ]  94 of 309 complete"
       ]
      },
      {
       "output_type": "stream",
       "stream": "stdout",
       "text": [
        " \r",
        "[***************       31%                       ]  95 of 309 complete"
       ]
      },
      {
       "output_type": "stream",
       "stream": "stdout",
       "text": [
        " \r",
        "[***************       31%                       ]  96 of 309 complete"
       ]
      },
      {
       "output_type": "stream",
       "stream": "stdout",
       "text": [
        " \r",
        "[***************       31%                       ]  97 of 309 complete"
       ]
      },
      {
       "output_type": "stream",
       "stream": "stdout",
       "text": [
        " \r",
        "[***************       32%                       ]  98 of 309 complete"
       ]
      },
      {
       "output_type": "stream",
       "stream": "stdout",
       "text": [
        " \r",
        "[***************       32%                       ]  99 of 309 complete"
       ]
      },
      {
       "output_type": "stream",
       "stream": "stdout",
       "text": [
        " \r",
        "[***************       32%                       ]  100 of 309 complete"
       ]
      },
      {
       "output_type": "stream",
       "stream": "stdout",
       "text": [
        " \r",
        "[****************      33%                       ]  101 of 309 complete"
       ]
      },
      {
       "output_type": "stream",
       "stream": "stdout",
       "text": [
        " \r",
        "[****************      33%                       ]  102 of 309 complete"
       ]
      },
      {
       "output_type": "stream",
       "stream": "stdout",
       "text": [
        " \r",
        "[****************      33%                       ]  103 of 309 complete"
       ]
      },
      {
       "output_type": "stream",
       "stream": "stdout",
       "text": [
        " \r",
        "[****************      34%                       ]  104 of 309 complete"
       ]
      },
      {
       "output_type": "stream",
       "stream": "stdout",
       "text": [
        " \r",
        "[****************      34%                       ]  105 of 309 complete"
       ]
      },
      {
       "output_type": "stream",
       "stream": "stdout",
       "text": [
        " \r",
        "[****************      34%                       ]  106 of 309 complete"
       ]
      },
      {
       "output_type": "stream",
       "stream": "stdout",
       "text": [
        " \r",
        "[*****************     35%                       ]  107 of 309 complete"
       ]
      },
      {
       "output_type": "stream",
       "stream": "stdout",
       "text": [
        " \r",
        "[*****************     35%                       ]  108 of 309 complete"
       ]
      },
      {
       "output_type": "stream",
       "stream": "stdout",
       "text": [
        " \r",
        "[*****************     35%                       ]  109 of 309 complete"
       ]
      },
      {
       "output_type": "stream",
       "stream": "stdout",
       "text": [
        " \r",
        "[*****************     36%                       ]  110 of 309 complete"
       ]
      },
      {
       "output_type": "stream",
       "stream": "stdout",
       "text": [
        " \r",
        "[*****************     36%                       ]  111 of 309 complete"
       ]
      },
      {
       "output_type": "stream",
       "stream": "stdout",
       "text": [
        " \r",
        "[*****************     36%                       ]  112 of 309 complete"
       ]
      },
      {
       "output_type": "stream",
       "stream": "stdout",
       "text": [
        " \r",
        "[******************    37%                       ]  113 of 309 complete"
       ]
      },
      {
       "output_type": "stream",
       "stream": "stdout",
       "text": [
        " \r",
        "[******************    37%                       ]  114 of 309 complete"
       ]
      },
      {
       "output_type": "stream",
       "stream": "stdout",
       "text": [
        " \r",
        "[******************    37%                       ]  115 of 309 complete"
       ]
      },
      {
       "output_type": "stream",
       "stream": "stdout",
       "text": [
        " \r",
        "[******************    38%                       ]  116 of 309 complete"
       ]
      },
      {
       "output_type": "stream",
       "stream": "stdout",
       "text": [
        " \r",
        "[******************    38%                       ]  117 of 309 complete"
       ]
      },
      {
       "output_type": "stream",
       "stream": "stdout",
       "text": [
        " \r",
        "[******************    38%                       ]  118 of 309 complete"
       ]
      },
      {
       "output_type": "stream",
       "stream": "stdout",
       "text": [
        " \r",
        "[*******************   39%                       ]  119 of 309 complete"
       ]
      },
      {
       "output_type": "stream",
       "stream": "stdout",
       "text": [
        " \r",
        "[*******************   39%                       ]  120 of 309 complete"
       ]
      },
      {
       "output_type": "stream",
       "stream": "stdout",
       "text": [
        " \r",
        "[*******************   39%                       ]  121 of 309 complete"
       ]
      },
      {
       "output_type": "stream",
       "stream": "stdout",
       "text": [
        " \r",
        "[*******************   39%                       ]  122 of 309 complete"
       ]
      },
      {
       "output_type": "stream",
       "stream": "stdout",
       "text": [
        " \r",
        "[*******************   40%                       ]  123 of 309 complete"
       ]
      },
      {
       "output_type": "stream",
       "stream": "stdout",
       "text": [
        " \r",
        "[*******************   40%                       ]  124 of 309 complete"
       ]
      },
      {
       "output_type": "stream",
       "stream": "stdout",
       "text": [
        " \r",
        "[*******************   40%                       ]  125 of 309 complete"
       ]
      },
      {
       "output_type": "stream",
       "stream": "stdout",
       "text": [
        " \r",
        "[********************  41%                       ]  126 of 309 complete"
       ]
      },
      {
       "output_type": "stream",
       "stream": "stdout",
       "text": [
        " \r",
        "[********************  41%                       ]  127 of 309 complete"
       ]
      },
      {
       "output_type": "stream",
       "stream": "stdout",
       "text": [
        " \r",
        "[********************  41%                       ]  128 of 309 complete"
       ]
      },
      {
       "output_type": "stream",
       "stream": "stdout",
       "text": [
        " \r",
        "[********************  42%                       ]  129 of 309 complete"
       ]
      },
      {
       "output_type": "stream",
       "stream": "stdout",
       "text": [
        " \r",
        "[********************  42%                       ]  130 of 309 complete"
       ]
      },
      {
       "output_type": "stream",
       "stream": "stdout",
       "text": [
        " \r",
        "[********************  42%                       ]  131 of 309 complete"
       ]
      },
      {
       "output_type": "stream",
       "stream": "stdout",
       "text": [
        " \r",
        "[********************* 43%                       ]  132 of 309 complete"
       ]
      },
      {
       "output_type": "stream",
       "stream": "stdout",
       "text": [
        " \r",
        "[********************* 43%                       ]  133 of 309 complete"
       ]
      },
      {
       "output_type": "stream",
       "stream": "stdout",
       "text": [
        " \r",
        "[********************* 43%                       ]  134 of 309 complete"
       ]
      },
      {
       "output_type": "stream",
       "stream": "stdout",
       "text": [
        " \r",
        "[********************* 44%                       ]  135 of 309 complete"
       ]
      },
      {
       "output_type": "stream",
       "stream": "stdout",
       "text": [
        " \r",
        "[********************* 44%                       ]  136 of 309 complete"
       ]
      },
      {
       "output_type": "stream",
       "stream": "stdout",
       "text": [
        " \r",
        "[********************* 44%                       ]  137 of 309 complete"
       ]
      },
      {
       "output_type": "stream",
       "stream": "stdout",
       "text": [
        " \r",
        "[**********************45%                       ]  138 of 309 complete"
       ]
      },
      {
       "output_type": "stream",
       "stream": "stdout",
       "text": [
        " \r",
        "[**********************45%                       ]  139 of 309 complete"
       ]
      },
      {
       "output_type": "stream",
       "stream": "stdout",
       "text": [
        " \r",
        "[**********************45%                       ]  140 of 309 complete"
       ]
      },
      {
       "output_type": "stream",
       "stream": "stdout",
       "text": [
        " \r",
        "[**********************46%                       ]  141 of 309 complete"
       ]
      },
      {
       "output_type": "stream",
       "stream": "stdout",
       "text": [
        " \r",
        "[**********************46%                       ]  142 of 309 complete"
       ]
      },
      {
       "output_type": "stream",
       "stream": "stdout",
       "text": [
        " \r",
        "[**********************46%                       ]  143 of 309 complete"
       ]
      },
      {
       "output_type": "stream",
       "stream": "stdout",
       "text": [
        " \r",
        "[**********************47%                       ]  144 of 309 complete"
       ]
      },
      {
       "output_type": "stream",
       "stream": "stdout",
       "text": [
        " \r",
        "[**********************47%                       ]  145 of 309 complete"
       ]
      },
      {
       "output_type": "stream",
       "stream": "stdout",
       "text": [
        " \r",
        "[**********************47%                       ]  146 of 309 complete"
       ]
      },
      {
       "output_type": "stream",
       "stream": "stdout",
       "text": [
        " \r",
        "[**********************48%                       ]  147 of 309 complete"
       ]
      },
      {
       "output_type": "stream",
       "stream": "stdout",
       "text": [
        " \r",
        "[**********************48%                       ]  148 of 309 complete"
       ]
      },
      {
       "output_type": "stream",
       "stream": "stdout",
       "text": [
        " \r",
        "[**********************48%                       ]  149 of 309 complete"
       ]
      },
      {
       "output_type": "stream",
       "stream": "stdout",
       "text": [
        " \r",
        "[**********************49%                       ]  150 of 309 complete"
       ]
      },
      {
       "output_type": "stream",
       "stream": "stdout",
       "text": [
        " \r",
        "[**********************49%                       ]  151 of 309 complete"
       ]
      },
      {
       "output_type": "stream",
       "stream": "stdout",
       "text": [
        " \r",
        "[**********************49%                       ]  152 of 309 complete"
       ]
      },
      {
       "output_type": "stream",
       "stream": "stdout",
       "text": [
        " \r",
        "[**********************50%                       ]  153 of 309 complete"
       ]
      },
      {
       "output_type": "stream",
       "stream": "stdout",
       "text": [
        " \r",
        "[**********************50%                       ]  154 of 309 complete"
       ]
      },
      {
       "output_type": "stream",
       "stream": "stdout",
       "text": [
        " \r",
        "[**********************50%                       ]  155 of 309 complete"
       ]
      },
      {
       "output_type": "stream",
       "stream": "stdout",
       "text": [
        " \r",
        "[**********************50%                       ]  156 of 309 complete"
       ]
      },
      {
       "output_type": "stream",
       "stream": "stdout",
       "text": [
        " \r",
        "[**********************51%                       ]  157 of 309 complete"
       ]
      },
      {
       "output_type": "stream",
       "stream": "stdout",
       "text": [
        " \r",
        "[**********************51%                       ]  158 of 309 complete"
       ]
      },
      {
       "output_type": "stream",
       "stream": "stdout",
       "text": [
        " \r",
        "[**********************51%                       ]  159 of 309 complete"
       ]
      },
      {
       "output_type": "stream",
       "stream": "stdout",
       "text": [
        " \r",
        "[**********************52%                       ]  160 of 309 complete"
       ]
      },
      {
       "output_type": "stream",
       "stream": "stdout",
       "text": [
        " \r",
        "[**********************52%                       ]  161 of 309 complete"
       ]
      },
      {
       "output_type": "stream",
       "stream": "stdout",
       "text": [
        " \r",
        "[**********************52%                       ]  162 of 309 complete"
       ]
      },
      {
       "output_type": "stream",
       "stream": "stdout",
       "text": [
        " \r",
        "[**********************53%                       ]  163 of 309 complete"
       ]
      },
      {
       "output_type": "stream",
       "stream": "stdout",
       "text": [
        " \r",
        "[**********************53%                       ]  164 of 309 complete"
       ]
      },
      {
       "output_type": "stream",
       "stream": "stdout",
       "text": [
        " \r",
        "[**********************53%                       ]  165 of 309 complete"
       ]
      },
      {
       "output_type": "stream",
       "stream": "stdout",
       "text": [
        " \r",
        "[**********************54%*                      ]  166 of 309 complete"
       ]
      },
      {
       "output_type": "stream",
       "stream": "stdout",
       "text": [
        " \r",
        "[**********************54%*                      ]  167 of 309 complete"
       ]
      },
      {
       "output_type": "stream",
       "stream": "stdout",
       "text": [
        " \r",
        "[**********************54%*                      ]  168 of 309 complete"
       ]
      },
      {
       "output_type": "stream",
       "stream": "stdout",
       "text": [
        " \r",
        "[**********************55%*                      ]  169 of 309 complete"
       ]
      },
      {
       "output_type": "stream",
       "stream": "stdout",
       "text": [
        " \r",
        "[**********************55%*                      ]  170 of 309 complete"
       ]
      },
      {
       "output_type": "stream",
       "stream": "stdout",
       "text": [
        " \r",
        "[**********************55%*                      ]  171 of 309 complete"
       ]
      },
      {
       "output_type": "stream",
       "stream": "stdout",
       "text": [
        " \r",
        "[**********************56%**                     ]  172 of 309 complete"
       ]
      },
      {
       "output_type": "stream",
       "stream": "stdout",
       "text": [
        " \r",
        "[**********************56%**                     ]  173 of 309 complete"
       ]
      },
      {
       "output_type": "stream",
       "stream": "stdout",
       "text": [
        " \r",
        "[**********************56%**                     ]  174 of 309 complete"
       ]
      },
      {
       "output_type": "stream",
       "stream": "stdout",
       "text": [
        " \r",
        "[**********************57%**                     ]  175 of 309 complete"
       ]
      },
      {
       "output_type": "stream",
       "stream": "stdout",
       "text": [
        " \r",
        "[**********************57%**                     ]  176 of 309 complete"
       ]
      },
      {
       "output_type": "stream",
       "stream": "stdout",
       "text": [
        " \r",
        "[**********************57%**                     ]  177 of 309 complete"
       ]
      },
      {
       "output_type": "stream",
       "stream": "stdout",
       "text": [
        " \r",
        "[**********************58%***                    ]  178 of 309 complete"
       ]
      },
      {
       "output_type": "stream",
       "stream": "stdout",
       "text": [
        " \r",
        "[**********************58%***                    ]  179 of 309 complete"
       ]
      },
      {
       "output_type": "stream",
       "stream": "stdout",
       "text": [
        " \r",
        "[**********************58%***                    ]  180 of 309 complete"
       ]
      },
      {
       "output_type": "stream",
       "stream": "stdout",
       "text": [
        " \r",
        "[**********************59%***                    ]  181 of 309 complete"
       ]
      },
      {
       "output_type": "stream",
       "stream": "stdout",
       "text": [
        " \r",
        "[**********************59%***                    ]  182 of 309 complete"
       ]
      },
      {
       "output_type": "stream",
       "stream": "stdout",
       "text": [
        " \r",
        "[**********************59%***                    ]  183 of 309 complete"
       ]
      },
      {
       "output_type": "stream",
       "stream": "stdout",
       "text": [
        " \r",
        "[**********************60%****                   ]  184 of 309 complete"
       ]
      },
      {
       "output_type": "stream",
       "stream": "stdout",
       "text": [
        " \r",
        "[**********************60%****                   ]  185 of 309 complete"
       ]
      },
      {
       "output_type": "stream",
       "stream": "stdout",
       "text": [
        " \r",
        "[**********************60%****                   ]  186 of 309 complete"
       ]
      },
      {
       "output_type": "stream",
       "stream": "stdout",
       "text": [
        " \r",
        "[**********************61%****                   ]  187 of 309 complete"
       ]
      },
      {
       "output_type": "stream",
       "stream": "stdout",
       "text": [
        " \r",
        "[**********************61%****                   ]  188 of 309 complete"
       ]
      },
      {
       "output_type": "stream",
       "stream": "stdout",
       "text": [
        " \r",
        "[**********************61%****                   ]  189 of 309 complete"
       ]
      },
      {
       "output_type": "stream",
       "stream": "stdout",
       "text": [
        " \r",
        "[**********************61%****                   ]  190 of 309 complete"
       ]
      },
      {
       "output_type": "stream",
       "stream": "stdout",
       "text": [
        " \r",
        "[**********************62%*****                  ]  191 of 309 complete"
       ]
      },
      {
       "output_type": "stream",
       "stream": "stdout",
       "text": [
        " \r",
        "[**********************62%*****                  ]  192 of 309 complete"
       ]
      },
      {
       "output_type": "stream",
       "stream": "stdout",
       "text": [
        " \r",
        "[**********************62%*****                  ]  193 of 309 complete"
       ]
      },
      {
       "output_type": "stream",
       "stream": "stdout",
       "text": [
        " \r",
        "[**********************63%*****                  ]  194 of 309 complete"
       ]
      },
      {
       "output_type": "stream",
       "stream": "stdout",
       "text": [
        " \r",
        "[**********************63%*****                  ]  195 of 309 complete"
       ]
      },
      {
       "output_type": "stream",
       "stream": "stdout",
       "text": [
        " \r",
        "[**********************63%*****                  ]  196 of 309 complete"
       ]
      },
      {
       "output_type": "stream",
       "stream": "stdout",
       "text": [
        " \r",
        "[**********************64%******                 ]  197 of 309 complete"
       ]
      },
      {
       "output_type": "stream",
       "stream": "stdout",
       "text": [
        " \r",
        "[**********************64%******                 ]  198 of 309 complete"
       ]
      },
      {
       "output_type": "stream",
       "stream": "stdout",
       "text": [
        " \r",
        "[**********************64%******                 ]  199 of 309 complete"
       ]
      },
      {
       "output_type": "stream",
       "stream": "stdout",
       "text": [
        " \r",
        "[**********************65%******                 ]  200 of 309 complete"
       ]
      },
      {
       "output_type": "stream",
       "stream": "stdout",
       "text": [
        " \r",
        "[**********************65%******                 ]  201 of 309 complete"
       ]
      },
      {
       "output_type": "stream",
       "stream": "stdout",
       "text": [
        " \r",
        "[**********************65%******                 ]  202 of 309 complete"
       ]
      },
      {
       "output_type": "stream",
       "stream": "stdout",
       "text": [
        " \r",
        "[**********************66%*******                ]  203 of 309 complete"
       ]
      },
      {
       "output_type": "stream",
       "stream": "stdout",
       "text": [
        " \r",
        "[**********************66%*******                ]  204 of 309 complete"
       ]
      },
      {
       "output_type": "stream",
       "stream": "stdout",
       "text": [
        " \r",
        "[**********************66%*******                ]  205 of 309 complete"
       ]
      },
      {
       "output_type": "stream",
       "stream": "stdout",
       "text": [
        " \r",
        "[**********************67%*******                ]  206 of 309 complete"
       ]
      },
      {
       "output_type": "stream",
       "stream": "stdout",
       "text": [
        " \r",
        "[**********************67%*******                ]  207 of 309 complete"
       ]
      },
      {
       "output_type": "stream",
       "stream": "stdout",
       "text": [
        " \r",
        "[**********************67%*******                ]  208 of 309 complete"
       ]
      },
      {
       "output_type": "stream",
       "stream": "stdout",
       "text": [
        " \r",
        "[**********************68%********               ]  209 of 309 complete"
       ]
      },
      {
       "output_type": "stream",
       "stream": "stdout",
       "text": [
        " \r",
        "[**********************68%********               ]  210 of 309 complete"
       ]
      },
      {
       "output_type": "stream",
       "stream": "stdout",
       "text": [
        " \r",
        "[**********************68%********               ]  211 of 309 complete"
       ]
      },
      {
       "output_type": "stream",
       "stream": "stdout",
       "text": [
        " \r",
        "[**********************69%********               ]  212 of 309 complete"
       ]
      },
      {
       "output_type": "stream",
       "stream": "stdout",
       "text": [
        " \r",
        "[**********************69%********               ]  213 of 309 complete"
       ]
      },
      {
       "output_type": "stream",
       "stream": "stdout",
       "text": [
        " \r",
        "[**********************69%********               ]  214 of 309 complete"
       ]
      },
      {
       "output_type": "stream",
       "stream": "stdout",
       "text": [
        " \r",
        "[**********************70%*********              ]  215 of 309 complete"
       ]
      },
      {
       "output_type": "stream",
       "stream": "stdout",
       "text": [
        " \r",
        "[**********************70%*********              ]  216 of 309 complete"
       ]
      },
      {
       "output_type": "stream",
       "stream": "stdout",
       "text": [
        " \r",
        "[**********************70%*********              ]  217 of 309 complete"
       ]
      },
      {
       "output_type": "stream",
       "stream": "stdout",
       "text": [
        " \r",
        "[**********************71%*********              ]  218 of 309 complete"
       ]
      },
      {
       "output_type": "stream",
       "stream": "stdout",
       "text": [
        " \r",
        "[**********************71%*********              ]  219 of 309 complete"
       ]
      },
      {
       "output_type": "stream",
       "stream": "stdout",
       "text": [
        " \r",
        "[**********************71%*********              ]  220 of 309 complete"
       ]
      },
      {
       "output_type": "stream",
       "stream": "stdout",
       "text": [
        " \r",
        "[**********************72%**********             ]  221 of 309 complete"
       ]
      },
      {
       "output_type": "stream",
       "stream": "stdout",
       "text": [
        " \r",
        "[**********************72%**********             ]  222 of 309 complete"
       ]
      },
      {
       "output_type": "stream",
       "stream": "stdout",
       "text": [
        " \r",
        "[**********************72%**********             ]  223 of 309 complete"
       ]
      },
      {
       "output_type": "stream",
       "stream": "stdout",
       "text": [
        " \r",
        "[**********************72%**********             ]  224 of 309 complete"
       ]
      },
      {
       "output_type": "stream",
       "stream": "stdout",
       "text": [
        " \r",
        "[**********************73%**********             ]  225 of 309 complete"
       ]
      },
      {
       "output_type": "stream",
       "stream": "stdout",
       "text": [
        " \r",
        "[**********************73%**********             ]  226 of 309 complete"
       ]
      },
      {
       "output_type": "stream",
       "stream": "stdout",
       "text": [
        " \r",
        "[**********************73%**********             ]  227 of 309 complete"
       ]
      },
      {
       "output_type": "stream",
       "stream": "stdout",
       "text": [
        " \r",
        "[**********************74%***********            ]  228 of 309 complete"
       ]
      },
      {
       "output_type": "stream",
       "stream": "stdout",
       "text": [
        " \r",
        "[**********************74%***********            ]  229 of 309 complete"
       ]
      },
      {
       "output_type": "stream",
       "stream": "stdout",
       "text": [
        " \r",
        "[**********************74%***********            ]  230 of 309 complete"
       ]
      },
      {
       "output_type": "stream",
       "stream": "stdout",
       "text": [
        " \r",
        "[**********************75%***********            ]  231 of 309 complete"
       ]
      },
      {
       "output_type": "stream",
       "stream": "stdout",
       "text": [
        " \r",
        "[**********************75%***********            ]  232 of 309 complete"
       ]
      },
      {
       "output_type": "stream",
       "stream": "stdout",
       "text": [
        " \r",
        "[**********************75%***********            ]  233 of 309 complete"
       ]
      },
      {
       "output_type": "stream",
       "stream": "stdout",
       "text": [
        " \r",
        "[**********************76%***********            ]  234 of 309 complete"
       ]
      },
      {
       "output_type": "stream",
       "stream": "stdout",
       "text": [
        " \r",
        "[**********************76%***********            ]  235 of 309 complete"
       ]
      },
      {
       "output_type": "stream",
       "stream": "stdout",
       "text": [
        " \r",
        "[**********************76%***********            ]  236 of 309 complete"
       ]
      },
      {
       "output_type": "stream",
       "stream": "stdout",
       "text": [
        " \r",
        "[**********************77%************           ]  237 of 309 complete"
       ]
      },
      {
       "output_type": "stream",
       "stream": "stdout",
       "text": [
        " \r",
        "[**********************77%************           ]  238 of 309 complete"
       ]
      },
      {
       "output_type": "stream",
       "stream": "stdout",
       "text": [
        " \r",
        "[**********************77%************           ]  239 of 309 complete"
       ]
      },
      {
       "output_type": "stream",
       "stream": "stdout",
       "text": [
        " \r",
        "[**********************78%************           ]  240 of 309 complete"
       ]
      },
      {
       "output_type": "stream",
       "stream": "stdout",
       "text": [
        " \r",
        "[**********************78%************           ]  241 of 309 complete"
       ]
      },
      {
       "output_type": "stream",
       "stream": "stdout",
       "text": [
        " \r",
        "[**********************78%************           ]  242 of 309 complete"
       ]
      },
      {
       "output_type": "stream",
       "stream": "stdout",
       "text": [
        " \r",
        "[**********************79%*************          ]  243 of 309 complete"
       ]
      },
      {
       "output_type": "stream",
       "stream": "stdout",
       "text": [
        " \r",
        "[**********************79%*************          ]  244 of 309 complete"
       ]
      },
      {
       "output_type": "stream",
       "stream": "stdout",
       "text": [
        " \r",
        "[**********************79%*************          ]  245 of 309 complete"
       ]
      },
      {
       "output_type": "stream",
       "stream": "stdout",
       "text": [
        " \r",
        "[**********************80%*************          ]  246 of 309 complete"
       ]
      },
      {
       "output_type": "stream",
       "stream": "stdout",
       "text": [
        " \r",
        "[**********************80%*************          ]  247 of 309 complete"
       ]
      },
      {
       "output_type": "stream",
       "stream": "stdout",
       "text": [
        " \r",
        "[**********************80%*************          ]  248 of 309 complete"
       ]
      },
      {
       "output_type": "stream",
       "stream": "stdout",
       "text": [
        " \r",
        "[**********************81%**************         ]  249 of 309 complete"
       ]
      },
      {
       "output_type": "stream",
       "stream": "stdout",
       "text": [
        " \r",
        "[**********************81%**************         ]  250 of 309 complete"
       ]
      },
      {
       "output_type": "stream",
       "stream": "stdout",
       "text": [
        " \r",
        "[**********************81%**************         ]  251 of 309 complete"
       ]
      },
      {
       "output_type": "stream",
       "stream": "stdout",
       "text": [
        " \r",
        "[**********************82%**************         ]  252 of 309 complete"
       ]
      },
      {
       "output_type": "stream",
       "stream": "stdout",
       "text": [
        " \r",
        "[**********************82%**************         ]  253 of 309 complete"
       ]
      },
      {
       "output_type": "stream",
       "stream": "stdout",
       "text": [
        " \r",
        "[**********************82%**************         ]  254 of 309 complete"
       ]
      },
      {
       "output_type": "stream",
       "stream": "stdout",
       "text": [
        " \r",
        "[**********************83%***************        ]  255 of 309 complete"
       ]
      },
      {
       "output_type": "stream",
       "stream": "stdout",
       "text": [
        " \r",
        "[**********************83%***************        ]  256 of 309 complete"
       ]
      },
      {
       "output_type": "stream",
       "stream": "stdout",
       "text": [
        " \r",
        "[**********************83%***************        ]  257 of 309 complete"
       ]
      },
      {
       "output_type": "stream",
       "stream": "stdout",
       "text": [
        " \r",
        "[**********************83%***************        ]  258 of 309 complete"
       ]
      },
      {
       "output_type": "stream",
       "stream": "stdout",
       "text": [
        " \r",
        "[**********************84%***************        ]  259 of 309 complete"
       ]
      },
      {
       "output_type": "stream",
       "stream": "stdout",
       "text": [
        " \r",
        "[**********************84%***************        ]  260 of 309 complete"
       ]
      },
      {
       "output_type": "stream",
       "stream": "stdout",
       "text": [
        " \r",
        "[**********************84%***************        ]  261 of 309 complete"
       ]
      },
      {
       "output_type": "stream",
       "stream": "stdout",
       "text": [
        " \r",
        "[**********************85%****************       ]  262 of 309 complete"
       ]
      },
      {
       "output_type": "stream",
       "stream": "stdout",
       "text": [
        " \r",
        "[**********************85%****************       ]  263 of 309 complete"
       ]
      },
      {
       "output_type": "stream",
       "stream": "stdout",
       "text": [
        " \r",
        "[**********************85%****************       ]  264 of 309 complete"
       ]
      },
      {
       "output_type": "stream",
       "stream": "stdout",
       "text": [
        " \r",
        "[**********************86%****************       ]  265 of 309 complete"
       ]
      },
      {
       "output_type": "stream",
       "stream": "stdout",
       "text": [
        " \r",
        "[**********************86%****************       ]  266 of 309 complete"
       ]
      },
      {
       "output_type": "stream",
       "stream": "stdout",
       "text": [
        " \r",
        "[**********************86%****************       ]  267 of 309 complete"
       ]
      },
      {
       "output_type": "stream",
       "stream": "stdout",
       "text": [
        " \r",
        "[**********************87%*****************      ]  268 of 309 complete"
       ]
      },
      {
       "output_type": "stream",
       "stream": "stdout",
       "text": [
        " \r",
        "[**********************87%*****************      ]  269 of 309 complete"
       ]
      },
      {
       "output_type": "stream",
       "stream": "stdout",
       "text": [
        " \r",
        "[**********************87%*****************      ]  270 of 309 complete"
       ]
      },
      {
       "output_type": "stream",
       "stream": "stdout",
       "text": [
        " \r",
        "[**********************88%*****************      ]  271 of 309 complete"
       ]
      },
      {
       "output_type": "stream",
       "stream": "stdout",
       "text": [
        " \r",
        "[**********************88%*****************      ]  272 of 309 complete"
       ]
      },
      {
       "output_type": "stream",
       "stream": "stdout",
       "text": [
        " \r",
        "[**********************88%*****************      ]  273 of 309 complete"
       ]
      },
      {
       "output_type": "stream",
       "stream": "stdout",
       "text": [
        " \r",
        "[**********************89%******************     ]  274 of 309 complete"
       ]
      },
      {
       "output_type": "stream",
       "stream": "stdout",
       "text": [
        " \r",
        "[**********************89%******************     ]  275 of 309 complete"
       ]
      },
      {
       "output_type": "stream",
       "stream": "stdout",
       "text": [
        " \r",
        "[**********************89%******************     ]  276 of 309 complete"
       ]
      },
      {
       "output_type": "stream",
       "stream": "stdout",
       "text": [
        " \r",
        "[**********************90%******************     ]  277 of 309 complete"
       ]
      },
      {
       "output_type": "stream",
       "stream": "stdout",
       "text": [
        " \r",
        "[**********************90%******************     ]  278 of 309 complete"
       ]
      },
      {
       "output_type": "stream",
       "stream": "stdout",
       "text": [
        " \r",
        "[**********************90%******************     ]  279 of 309 complete"
       ]
      },
      {
       "output_type": "stream",
       "stream": "stdout",
       "text": [
        " \r",
        "[**********************91%*******************    ]  280 of 309 complete"
       ]
      },
      {
       "output_type": "stream",
       "stream": "stdout",
       "text": [
        " \r",
        "[**********************91%*******************    ]  281 of 309 complete"
       ]
      },
      {
       "output_type": "stream",
       "stream": "stdout",
       "text": [
        " \r",
        "[**********************91%*******************    ]  282 of 309 complete"
       ]
      },
      {
       "output_type": "stream",
       "stream": "stdout",
       "text": [
        " \r",
        "[**********************92%*******************    ]  283 of 309 complete"
       ]
      },
      {
       "output_type": "stream",
       "stream": "stdout",
       "text": [
        " \r",
        "[**********************92%*******************    ]  284 of 309 complete"
       ]
      },
      {
       "output_type": "stream",
       "stream": "stdout",
       "text": [
        " \r",
        "[**********************92%*******************    ]  285 of 309 complete"
       ]
      },
      {
       "output_type": "stream",
       "stream": "stdout",
       "text": [
        " \r",
        "[**********************93%********************   ]  286 of 309 complete"
       ]
      },
      {
       "output_type": "stream",
       "stream": "stdout",
       "text": [
        " \r",
        "[**********************93%********************   ]  287 of 309 complete"
       ]
      },
      {
       "output_type": "stream",
       "stream": "stdout",
       "text": [
        " \r",
        "[**********************93%********************   ]  288 of 309 complete"
       ]
      },
      {
       "output_type": "stream",
       "stream": "stdout",
       "text": [
        " \r",
        "[**********************94%********************   ]  289 of 309 complete"
       ]
      },
      {
       "output_type": "stream",
       "stream": "stdout",
       "text": [
        " \r",
        "[**********************94%********************   ]  290 of 309 complete"
       ]
      },
      {
       "output_type": "stream",
       "stream": "stdout",
       "text": [
        " \r",
        "[**********************94%********************   ]  291 of 309 complete"
       ]
      },
      {
       "output_type": "stream",
       "stream": "stdout",
       "text": [
        " \r",
        "[**********************94%********************   ]  292 of 309 complete"
       ]
      },
      {
       "output_type": "stream",
       "stream": "stdout",
       "text": [
        " \r",
        "[**********************95%*********************  ]  293 of 309 complete"
       ]
      },
      {
       "output_type": "stream",
       "stream": "stdout",
       "text": [
        " \r",
        "[**********************95%*********************  ]  294 of 309 complete"
       ]
      },
      {
       "output_type": "stream",
       "stream": "stdout",
       "text": [
        " \r",
        "[**********************95%*********************  ]  295 of 309 complete"
       ]
      },
      {
       "output_type": "stream",
       "stream": "stdout",
       "text": [
        " \r",
        "[**********************96%*********************  ]  296 of 309 complete"
       ]
      },
      {
       "output_type": "stream",
       "stream": "stdout",
       "text": [
        " \r",
        "[**********************96%*********************  ]  297 of 309 complete"
       ]
      },
      {
       "output_type": "stream",
       "stream": "stdout",
       "text": [
        " \r",
        "[**********************96%*********************  ]  298 of 309 complete"
       ]
      },
      {
       "output_type": "stream",
       "stream": "stdout",
       "text": [
        " \r",
        "[**********************97%********************** ]  299 of 309 complete"
       ]
      },
      {
       "output_type": "stream",
       "stream": "stdout",
       "text": [
        " \r",
        "[**********************97%********************** ]  300 of 309 complete"
       ]
      },
      {
       "output_type": "stream",
       "stream": "stdout",
       "text": [
        " \r",
        "[**********************97%********************** ]  301 of 309 complete"
       ]
      },
      {
       "output_type": "stream",
       "stream": "stdout",
       "text": [
        " \r",
        "[**********************98%********************** ]  302 of 309 complete"
       ]
      },
      {
       "output_type": "stream",
       "stream": "stdout",
       "text": [
        " \r",
        "[**********************98%********************** ]  303 of 309 complete"
       ]
      },
      {
       "output_type": "stream",
       "stream": "stdout",
       "text": [
        " \r",
        "[**********************98%********************** ]  304 of 309 complete"
       ]
      },
      {
       "output_type": "stream",
       "stream": "stdout",
       "text": [
        " \r",
        "[**********************99%***********************]  305 of 309 complete"
       ]
      },
      {
       "output_type": "stream",
       "stream": "stdout",
       "text": [
        " \r",
        "[**********************99%***********************]  306 of 309 complete"
       ]
      },
      {
       "output_type": "stream",
       "stream": "stdout",
       "text": [
        " \r",
        "[**********************99%***********************]  307 of 309 complete"
       ]
      },
      {
       "output_type": "stream",
       "stream": "stdout",
       "text": [
        " \r",
        "[*********************100%***********************]  308 of 309 complete"
       ]
      },
      {
       "output_type": "stream",
       "stream": "stdout",
       "text": [
        " \r",
        "[*********************100%***********************]  309 of 309 complete"
       ]
      },
      {
       "output_type": "stream",
       "stream": "stdout",
       "text": [
        " CPU times: user 7min 50s, sys: 7.31 s, total: 7min 57s\n",
        "Wall time: 9min 8s\n",
        "\r",
        "[                       0%                       ]"
       ]
      },
      {
       "output_type": "stream",
       "stream": "stdout",
       "text": [
        " \r",
        "[*                      3%                       ]  2 of 80 complete"
       ]
      },
      {
       "output_type": "stream",
       "stream": "stdout",
       "text": [
        " \r",
        "[**                     4%                       ]  3 of 80 complete"
       ]
      },
      {
       "output_type": "stream",
       "stream": "stdout",
       "text": [
        " \r",
        "[**                     5%                       ]  4 of 80 complete"
       ]
      },
      {
       "output_type": "stream",
       "stream": "stdout",
       "text": [
        " \r",
        "[***                    6%                       ]  5 of 80 complete"
       ]
      },
      {
       "output_type": "stream",
       "stream": "stdout",
       "text": [
        " \r",
        "[****                   8%                       ]  6 of 80 complete"
       ]
      },
      {
       "output_type": "stream",
       "stream": "stdout",
       "text": [
        " \r",
        "[****                   9%                       ]  7 of 80 complete"
       ]
      },
      {
       "output_type": "stream",
       "stream": "stdout",
       "text": [
        " \r",
        "[*****                 10%                       ]  8 of 80 complete"
       ]
      },
      {
       "output_type": "stream",
       "stream": "stdout",
       "text": [
        " \r",
        "[*****                 11%                       ]  9 of 80 complete"
       ]
      },
      {
       "output_type": "stream",
       "stream": "stdout",
       "text": [
        " \r",
        "[******                13%                       ]  10 of 80 complete"
       ]
      },
      {
       "output_type": "stream",
       "stream": "stdout",
       "text": [
        " \r",
        "[*******               14%                       ]  11 of 80 complete"
       ]
      },
      {
       "output_type": "stream",
       "stream": "stdout",
       "text": [
        " \r",
        "[*******               15%                       ]  12 of 80 complete"
       ]
      },
      {
       "output_type": "stream",
       "stream": "stdout",
       "text": [
        " \r",
        "[********              16%                       ]  13 of 80 complete"
       ]
      },
      {
       "output_type": "stream",
       "stream": "stdout",
       "text": [
        " \r",
        "[*********             18%                       ]  14 of 80 complete"
       ]
      },
      {
       "output_type": "stream",
       "stream": "stdout",
       "text": [
        " \r",
        "[*********             19%                       ]  15 of 80 complete"
       ]
      },
      {
       "output_type": "stream",
       "stream": "stdout",
       "text": [
        " \r",
        "[**********            20%                       ]  16 of 80 complete"
       ]
      },
      {
       "output_type": "stream",
       "stream": "stdout",
       "text": [
        " \r",
        "[**********            21%                       ]  17 of 80 complete"
       ]
      },
      {
       "output_type": "stream",
       "stream": "stdout",
       "text": [
        " \r",
        "[***********           23%                       ]  18 of 80 complete"
       ]
      },
      {
       "output_type": "stream",
       "stream": "stdout",
       "text": [
        " \r",
        "[************          24%                       ]  19 of 80 complete"
       ]
      },
      {
       "output_type": "stream",
       "stream": "stdout",
       "text": [
        " \r",
        "[************          25%                       ]  20 of 80 complete"
       ]
      },
      {
       "output_type": "stream",
       "stream": "stdout",
       "text": [
        " \r",
        "[************          26%                       ]  21 of 80 complete"
       ]
      },
      {
       "output_type": "stream",
       "stream": "stdout",
       "text": [
        " \r",
        "[*************         28%                       ]  22 of 80 complete"
       ]
      },
      {
       "output_type": "stream",
       "stream": "stdout",
       "text": [
        " \r",
        "[**************        29%                       ]  23 of 80 complete"
       ]
      },
      {
       "output_type": "stream",
       "stream": "stdout",
       "text": [
        " \r",
        "[**************        30%                       ]  24 of 80 complete"
       ]
      },
      {
       "output_type": "stream",
       "stream": "stdout",
       "text": [
        " \r",
        "[***************       31%                       ]  25 of 80 complete"
       ]
      },
      {
       "output_type": "stream",
       "stream": "stdout",
       "text": [
        " \r",
        "[****************      33%                       ]  26 of 80 complete"
       ]
      },
      {
       "output_type": "stream",
       "stream": "stdout",
       "text": [
        " \r",
        "[****************      34%                       ]  27 of 80 complete"
       ]
      },
      {
       "output_type": "stream",
       "stream": "stdout",
       "text": [
        " \r",
        "[*****************     35%                       ]  28 of 80 complete"
       ]
      },
      {
       "output_type": "stream",
       "stream": "stdout",
       "text": [
        " \r",
        "[*****************     36%                       ]  29 of 80 complete"
       ]
      },
      {
       "output_type": "stream",
       "stream": "stdout",
       "text": [
        " \r",
        "[******************    38%                       ]  30 of 80 complete"
       ]
      },
      {
       "output_type": "stream",
       "stream": "stdout",
       "text": [
        " \r",
        "[*******************   39%                       ]  31 of 80 complete"
       ]
      },
      {
       "output_type": "stream",
       "stream": "stdout",
       "text": [
        " \r",
        "[*******************   40%                       ]  32 of 80 complete"
       ]
      },
      {
       "output_type": "stream",
       "stream": "stdout",
       "text": [
        " \r",
        "[********************  41%                       ]  33 of 80 complete"
       ]
      },
      {
       "output_type": "stream",
       "stream": "stdout",
       "text": [
        " \r",
        "[********************* 43%                       ]  34 of 80 complete"
       ]
      },
      {
       "output_type": "stream",
       "stream": "stdout",
       "text": [
        " \r",
        "[********************* 44%                       ]  35 of 80 complete"
       ]
      },
      {
       "output_type": "stream",
       "stream": "stdout",
       "text": [
        " \r",
        "[**********************45%                       ]  36 of 80 complete"
       ]
      },
      {
       "output_type": "stream",
       "stream": "stdout",
       "text": [
        " \r",
        "[**********************46%                       ]  37 of 80 complete"
       ]
      },
      {
       "output_type": "stream",
       "stream": "stdout",
       "text": [
        " \r",
        "[**********************48%                       ]  38 of 80 complete"
       ]
      },
      {
       "output_type": "stream",
       "stream": "stdout",
       "text": [
        " \r",
        "[**********************49%                       ]  39 of 80 complete"
       ]
      },
      {
       "output_type": "stream",
       "stream": "stdout",
       "text": [
        " \r",
        "[**********************50%                       ]  40 of 80 complete"
       ]
      },
      {
       "output_type": "stream",
       "stream": "stdout",
       "text": [
        " \r",
        "[**********************51%                       ]  41 of 80 complete"
       ]
      },
      {
       "output_type": "stream",
       "stream": "stdout",
       "text": [
        " \r",
        "[**********************53%                       ]  42 of 80 complete"
       ]
      },
      {
       "output_type": "stream",
       "stream": "stdout",
       "text": [
        " \r",
        "[**********************54%*                      ]  43 of 80 complete"
       ]
      },
      {
       "output_type": "stream",
       "stream": "stdout",
       "text": [
        " \r",
        "[**********************55%*                      ]  44 of 80 complete"
       ]
      },
      {
       "output_type": "stream",
       "stream": "stdout",
       "text": [
        " \r",
        "[**********************56%**                     ]  45 of 80 complete"
       ]
      },
      {
       "output_type": "stream",
       "stream": "stdout",
       "text": [
        " \r",
        "[**********************57%**                     ]  46 of 80 complete"
       ]
      },
      {
       "output_type": "stream",
       "stream": "stdout",
       "text": [
        " \r",
        "[**********************59%***                    ]  47 of 80 complete"
       ]
      },
      {
       "output_type": "stream",
       "stream": "stdout",
       "text": [
        " \r",
        "[**********************60%****                   ]  48 of 80 complete"
       ]
      },
      {
       "output_type": "stream",
       "stream": "stdout",
       "text": [
        " \r",
        "[**********************61%****                   ]  49 of 80 complete"
       ]
      },
      {
       "output_type": "stream",
       "stream": "stdout",
       "text": [
        " \r",
        "[**********************63%*****                  ]  50 of 80 complete"
       ]
      },
      {
       "output_type": "stream",
       "stream": "stdout",
       "text": [
        " \r",
        "[**********************64%******                 ]  51 of 80 complete"
       ]
      },
      {
       "output_type": "stream",
       "stream": "stdout",
       "text": [
        " \r",
        "[**********************65%******                 ]  52 of 80 complete"
       ]
      },
      {
       "output_type": "stream",
       "stream": "stdout",
       "text": [
        " \r",
        "[**********************66%*******                ]  53 of 80 complete"
       ]
      },
      {
       "output_type": "stream",
       "stream": "stdout",
       "text": [
        " \r",
        "[**********************68%********               ]  54 of 80 complete"
       ]
      },
      {
       "output_type": "stream",
       "stream": "stdout",
       "text": [
        " \r",
        "[**********************69%********               ]  55 of 80 complete"
       ]
      },
      {
       "output_type": "stream",
       "stream": "stdout",
       "text": [
        " \r",
        "[**********************70%*********              ]  56 of 80 complete"
       ]
      },
      {
       "output_type": "stream",
       "stream": "stdout",
       "text": [
        " \r",
        "[**********************71%*********              ]  57 of 80 complete"
       ]
      },
      {
       "output_type": "stream",
       "stream": "stdout",
       "text": [
        " \r",
        "[**********************73%**********             ]  58 of 80 complete"
       ]
      },
      {
       "output_type": "stream",
       "stream": "stdout",
       "text": [
        " \r",
        "[**********************74%***********            ]  59 of 80 complete"
       ]
      },
      {
       "output_type": "stream",
       "stream": "stdout",
       "text": [
        " \r",
        "[**********************75%***********            ]  60 of 80 complete"
       ]
      },
      {
       "output_type": "stream",
       "stream": "stdout",
       "text": [
        " \r",
        "[**********************76%***********            ]  61 of 80 complete"
       ]
      },
      {
       "output_type": "stream",
       "stream": "stdout",
       "text": [
        " \r",
        "[**********************78%************           ]  62 of 80 complete"
       ]
      },
      {
       "output_type": "stream",
       "stream": "stdout",
       "text": [
        " \r",
        "[**********************79%*************          ]  63 of 80 complete"
       ]
      },
      {
       "output_type": "stream",
       "stream": "stdout",
       "text": [
        " \r",
        "[**********************80%*************          ]  64 of 80 complete"
       ]
      },
      {
       "output_type": "stream",
       "stream": "stdout",
       "text": [
        " \r",
        "[**********************81%**************         ]  65 of 80 complete"
       ]
      },
      {
       "output_type": "stream",
       "stream": "stdout",
       "text": [
        " \r",
        "[**********************83%***************        ]  66 of 80 complete"
       ]
      },
      {
       "output_type": "stream",
       "stream": "stdout",
       "text": [
        " \r",
        "[**********************84%***************        ]  67 of 80 complete"
       ]
      },
      {
       "output_type": "stream",
       "stream": "stdout",
       "text": [
        " \r",
        "[**********************85%****************       ]  68 of 80 complete"
       ]
      },
      {
       "output_type": "stream",
       "stream": "stdout",
       "text": [
        " \r",
        "[**********************86%****************       ]  69 of 80 complete"
       ]
      },
      {
       "output_type": "stream",
       "stream": "stdout",
       "text": [
        " \r",
        "[**********************88%*****************      ]  70 of 80 complete"
       ]
      },
      {
       "output_type": "stream",
       "stream": "stdout",
       "text": [
        " \r",
        "[**********************89%******************     ]  71 of 80 complete"
       ]
      },
      {
       "output_type": "stream",
       "stream": "stdout",
       "text": [
        " \r",
        "[**********************90%******************     ]  72 of 80 complete"
       ]
      },
      {
       "output_type": "stream",
       "stream": "stdout",
       "text": [
        " \r",
        "[**********************91%*******************    ]  73 of 80 complete"
       ]
      },
      {
       "output_type": "stream",
       "stream": "stdout",
       "text": [
        " \r",
        "[**********************93%********************   ]  74 of 80 complete"
       ]
      },
      {
       "output_type": "stream",
       "stream": "stdout",
       "text": [
        " \r",
        "[**********************94%********************   ]  75 of 80 complete"
       ]
      },
      {
       "output_type": "stream",
       "stream": "stdout",
       "text": [
        " \r",
        "[**********************95%*********************  ]  76 of 80 complete"
       ]
      },
      {
       "output_type": "stream",
       "stream": "stdout",
       "text": [
        " \r",
        "[**********************96%*********************  ]  77 of 80 complete"
       ]
      },
      {
       "output_type": "stream",
       "stream": "stdout",
       "text": [
        " \r",
        "[**********************98%********************** ]  78 of 80 complete"
       ]
      },
      {
       "output_type": "stream",
       "stream": "stdout",
       "text": [
        " \r",
        "[**********************99%***********************]  79 of 80 complete"
       ]
      },
      {
       "output_type": "stream",
       "stream": "stdout",
       "text": [
        " \r",
        "[*********************100%***********************]  80 of 80 complete"
       ]
      },
      {
       "output_type": "stream",
       "stream": "stdout",
       "text": [
        " CPU times: user 2min 21s, sys: 2.11 s, total: 2min 23s\n",
        "Wall time: 3min 2s\n"
       ]
      }
     ],
     "prompt_number": 115
    },
    {
     "cell_type": "code",
     "collapsed": false,
     "input": [
      "trfeats = pd.DataFrame( trKeyFeats, copy=1)\n",
      "tsfeats = pd.DataFrame( tsKeyFeats, copy=1)"
     ],
     "language": "python",
     "metadata": {},
     "outputs": [],
     "prompt_number": 116
    },
    {
     "cell_type": "code",
     "collapsed": false,
     "input": [
      "if 'desc' in trfeats.columns:\n",
      "    del trfeats['desc']\n",
      "if 'score' in tsfeats.columns:    \n",
      "    del trfeats['score']\n",
      "if 'desc' in tsfeats.columns:\n",
      "    del tsfeats['desc']\n",
      "if 'score' in tsfeats.columns:\n",
      "    del tsfeats['score']\n",
      "    \n",
      "print trfeats.shape\n",
      "print tsfeats.shape"
     ],
     "language": "python",
     "metadata": {},
     "outputs": [
      {
       "output_type": "stream",
       "stream": "stdout",
       "text": [
        "(9253, 14)\n",
        "(2852, 14)\n"
       ]
      }
     ],
     "prompt_number": 117
    },
    {
     "cell_type": "code",
     "collapsed": false,
     "input": [
      "trfeats.index = np.arange(1, len(trfeats)+1)\n",
      "tsfeats.index = np.arange(1, len(tsfeats)+1)"
     ],
     "language": "python",
     "metadata": {},
     "outputs": [],
     "prompt_number": 118
    },
    {
     "cell_type": "code",
     "collapsed": false,
     "input": [
      "from sklearn.svm import LinearSVC\n",
      "lsvc = LinearSVC(C=0.01, penalty=\"l1\", dual=False)\n",
      "trfeats = lsvc.fit_transform(trfeats, trKeyFeats.score)\n",
      "tsfeats = lsvc.fit_transform(tsfeats, tsKeyFeats.score)\n",
      "print trfeats.shape\n",
      "print tsfeats.shape"
     ],
     "language": "python",
     "metadata": {},
     "outputs": [
      {
       "output_type": "stream",
       "stream": "stdout",
       "text": [
        "(9253, 5)\n",
        "(2852, 6)\n"
       ]
      }
     ],
     "prompt_number": 119
    },
    {
     "cell_type": "code",
     "collapsed": false,
     "input": [
      "from sklearn.metrics import mean_squared_error\n",
      "from sklearn.ensemble import GradientBoostingRegressor\n",
      "\n",
      "clf = GradientBoostingRegressor(n_estimators=10, learning_rate=1.0, max_depth=1, random_state=0, loss='ls')\n",
      "clf.fit(trfeats, trKeyFeats.score)\n",
      "#mean_squared_error(tsKeyFeats.score, clf.predict(tsfeats))  \n",
      "r = clf.predict(tsfeats[:, :5])\n",
      "r"
     ],
     "language": "python",
     "metadata": {},
     "outputs": [
      {
       "output_type": "pyout",
       "prompt_number": 121,
       "text": [
        "array([ 8.42610948,  8.42610948,  8.42610948, ...,  4.6994204 ,\n",
        "        4.6994204 ,  4.6994204 ])"
       ]
      }
     ],
     "prompt_number": 121
    },
    {
     "cell_type": "code",
     "collapsed": false,
     "input": [
      "result = pd.DataFrame( index=np.arange(1, len(tsKeyFeats)+1))\n",
      "result.insert(0,'iindex', tsKeyFeats['iindex'])\n",
      "result.insert(1,'score', r)\n",
      "\n",
      "#result['iindex'] = tsKeyFeats['iindex']\n",
      "pr =  result.groupby('iindex')\n",
      "nr = pd.DataFrame(index = np.arange(1, len(tsGround)+1))\n",
      "nr.insert(0, 'Ground', tsGround.score)\n",
      "nr.insert(1, 'Predict', pr.score.first())\n",
      "revaluation(nr)"
     ],
     "language": "python",
     "metadata": {},
     "outputs": [
      {
       "output_type": "stream",
       "stream": "stdout",
       "text": [
        "------------------------\n",
        "Pearson Evaluation\n",
        "           Ground   Predict\n",
        "Ground   1.000000  0.171597\n",
        "Predict  0.171597  1.000000\n",
        "------------------------\n",
        "Spearman Evaluation\n",
        "           Ground   Predict\n",
        "Ground   1.000000  0.104466\n",
        "Predict  0.104466  1.000000\n",
        "------------------------\n",
        "Kendall Evaluation\n",
        "           Ground   Predict\n",
        "Ground   1.000000  0.085894\n",
        "Predict  0.085894  1.000000"
       ]
      },
      {
       "output_type": "stream",
       "stream": "stdout",
       "text": [
        "\n"
       ]
      },
      {
       "output_type": "display_data",
       "png": "[encoded data removed]",
       "text": [
        "<matplotlib.figure.Figure at 0x13a93bf90>"
       ]
      }
     ],
     "prompt_number": 122
    },
    {
     "cell_type": "code",
     "collapsed": false,
     "input": [
      "tsKeyFeats[:20]"
     ],
     "language": "python",
     "metadata": {},
     "outputs": [
      {
       "html": [
        "<div style=\"max-height:1000px;max-width:1500px;overflow:auto;\">\n",
        "<table border=\"1\" class=\"dataframe\">\n",
        "  <thead>\n",
        "    <tr style=\"text-align: right;\">\n",
        "      <th></th>\n",
        "      <th>angle</th>\n",
        "      <th>bl</th>\n",
        "      <th>br</th>\n",
        "      <th>cc</th>\n",
        "      <th>gbl</th>\n",
        "      <th>gbr</th>\n",
        "      <th>gtl</th>\n",
        "      <th>gtr</th>\n",
        "      <th>iindex</th>\n",
        "      <th>ndclass</th>\n",
        "      <th>resp</th>\n",
        "      <th>score</th>\n",
        "      <th>size</th>\n",
        "      <th>tl</th>\n",
        "      <th>tr</th>\n",
        "    </tr>\n",
        "  </thead>\n",
        "  <tbody>\n",
        "    <tr>\n",
        "      <th>1 </th>\n",
        "      <td> 255.0775</td>\n",
        "      <td> 0.6850194</td>\n",
        "      <td> 0.2721588</td>\n",
        "      <td> 0.4022608</td>\n",
        "      <td>  0.4432762</td>\n",
        "      <td>   0.32035</td>\n",
        "      <td>  0.1715277</td>\n",
        "      <td>          0</td>\n",
        "      <td> 1</td>\n",
        "      <td> 1</td>\n",
        "      <td> 48372.45</td>\n",
        "      <td> 9.1</td>\n",
        "      <td> 20</td>\n",
        "      <td> 0.3959872</td>\n",
        "      <td>          0</td>\n",
        "    </tr>\n",
        "    <tr>\n",
        "      <th>2 </th>\n",
        "      <td> 214.7972</td>\n",
        "      <td> 0.3771219</td>\n",
        "      <td> 0.7865661</td>\n",
        "      <td> 0.5125185</td>\n",
        "      <td>  0.1945201</td>\n",
        "      <td> 0.7132877</td>\n",
        "      <td> 0.01867838</td>\n",
        "      <td>   0.308489</td>\n",
        "      <td> 1</td>\n",
        "      <td> 1</td>\n",
        "      <td> 43350.16</td>\n",
        "      <td> 9.1</td>\n",
        "      <td> 15</td>\n",
        "      <td> 0.2191528</td>\n",
        "      <td>    0.26976</td>\n",
        "    </tr>\n",
        "    <tr>\n",
        "      <th>3 </th>\n",
        "      <td> 173.6604</td>\n",
        "      <td> 0.2508302</td>\n",
        "      <td> 0.7057436</td>\n",
        "      <td> 0.4100768</td>\n",
        "      <td> 0.02128654</td>\n",
        "      <td> 0.6217023</td>\n",
        "      <td>          0</td>\n",
        "      <td>  0.2197353</td>\n",
        "      <td> 1</td>\n",
        "      <td> 1</td>\n",
        "      <td>  42261.8</td>\n",
        "      <td> 9.1</td>\n",
        "      <td> 17</td>\n",
        "      <td> 0.1115001</td>\n",
        "      <td>  0.2075737</td>\n",
        "    </tr>\n",
        "    <tr>\n",
        "      <th>4 </th>\n",
        "      <td> 294.4631</td>\n",
        "      <td> 0.7387147</td>\n",
        "      <td>  0.581244</td>\n",
        "      <td> 0.6164309</td>\n",
        "      <td>   0.620275</td>\n",
        "      <td>  0.614171</td>\n",
        "      <td>   0.313721</td>\n",
        "      <td>  0.2102119</td>\n",
        "      <td> 1</td>\n",
        "      <td> 1</td>\n",
        "      <td>  41610.2</td>\n",
        "      <td> 9.1</td>\n",
        "      <td> 44</td>\n",
        "      <td> 0.4532881</td>\n",
        "      <td>  0.1000481</td>\n",
        "    </tr>\n",
        "    <tr>\n",
        "      <th>5 </th>\n",
        "      <td> 135.3468</td>\n",
        "      <td> 0.7681876</td>\n",
        "      <td> 0.6103376</td>\n",
        "      <td> 0.6624981</td>\n",
        "      <td>  0.6767784</td>\n",
        "      <td> 0.6499074</td>\n",
        "      <td>  0.3746986</td>\n",
        "      <td>  0.2712743</td>\n",
        "      <td> 1</td>\n",
        "      <td> 1</td>\n",
        "      <td>    41033</td>\n",
        "      <td> 9.1</td>\n",
        "      <td> 24</td>\n",
        "      <td>  0.494057</td>\n",
        "      <td>  0.1595415</td>\n",
        "    </tr>\n",
        "    <tr>\n",
        "      <th>6 </th>\n",
        "      <td> 95.50572</td>\n",
        "      <td> 0.0139358</td>\n",
        "      <td> 0.5073109</td>\n",
        "      <td> 0.2096874</td>\n",
        "      <td>          0</td>\n",
        "      <td> 0.4222633</td>\n",
        "      <td>          0</td>\n",
        "      <td> 0.01549074</td>\n",
        "      <td> 1</td>\n",
        "      <td> 1</td>\n",
        "      <td> 40469.49</td>\n",
        "      <td> 9.1</td>\n",
        "      <td> 22</td>\n",
        "      <td>         0</td>\n",
        "      <td> 0.04531342</td>\n",
        "    </tr>\n",
        "    <tr>\n",
        "      <th>7 </th>\n",
        "      <td>  265.153</td>\n",
        "      <td>  0.690974</td>\n",
        "      <td> 0.3011738</td>\n",
        "      <td> 0.4180079</td>\n",
        "      <td>  0.4579197</td>\n",
        "      <td>  0.346495</td>\n",
        "      <td>  0.1744332</td>\n",
        "      <td>          0</td>\n",
        "      <td> 1</td>\n",
        "      <td> 1</td>\n",
        "      <td>  40022.5</td>\n",
        "      <td> 9.1</td>\n",
        "      <td> 16</td>\n",
        "      <td> 0.3924874</td>\n",
        "      <td>          0</td>\n",
        "    </tr>\n",
        "    <tr>\n",
        "      <th>8 </th>\n",
        "      <td> 22.48151</td>\n",
        "      <td> 0.8412204</td>\n",
        "      <td> 0.5565879</td>\n",
        "      <td> 0.6670514</td>\n",
        "      <td>  0.7500411</td>\n",
        "      <td>  0.608038</td>\n",
        "      <td>  0.4367083</td>\n",
        "      <td>  0.2507926</td>\n",
        "      <td> 1</td>\n",
        "      <td> 1</td>\n",
        "      <td> 39506.65</td>\n",
        "      <td> 9.1</td>\n",
        "      <td> 18</td>\n",
        "      <td> 0.5471256</td>\n",
        "      <td>  0.1333406</td>\n",
        "    </tr>\n",
        "    <tr>\n",
        "      <th>9 </th>\n",
        "      <td> 151.7613</td>\n",
        "      <td> 0.7695427</td>\n",
        "      <td> 0.6100789</td>\n",
        "      <td>  0.663324</td>\n",
        "      <td>  0.6786493</td>\n",
        "      <td> 0.6499298</td>\n",
        "      <td>  0.3764467</td>\n",
        "      <td>  0.2719665</td>\n",
        "      <td> 1</td>\n",
        "      <td> 1</td>\n",
        "      <td> 38441.79</td>\n",
        "      <td> 9.1</td>\n",
        "      <td> 27</td>\n",
        "      <td> 0.4953586</td>\n",
        "      <td>  0.1601199</td>\n",
        "    </tr>\n",
        "    <tr>\n",
        "      <th>10</th>\n",
        "      <td> 203.1219</td>\n",
        "      <td> 0.2690074</td>\n",
        "      <td> 0.7121171</td>\n",
        "      <td> 0.4199539</td>\n",
        "      <td> 0.04444141</td>\n",
        "      <td>  0.629662</td>\n",
        "      <td>          0</td>\n",
        "      <td>  0.2205331</td>\n",
        "      <td> 1</td>\n",
        "      <td> 1</td>\n",
        "      <td> 35892.19</td>\n",
        "      <td> 9.1</td>\n",
        "      <td> 17</td>\n",
        "      <td> 0.1224863</td>\n",
        "      <td>  0.2028131</td>\n",
        "    </tr>\n",
        "    <tr>\n",
        "      <th>11</th>\n",
        "      <td> 27.17632</td>\n",
        "      <td> 0.2935432</td>\n",
        "      <td> 0.7472608</td>\n",
        "      <td> 0.4531055</td>\n",
        "      <td> 0.08260436</td>\n",
        "      <td> 0.6640108</td>\n",
        "      <td>          0</td>\n",
        "      <td>  0.2718795</td>\n",
        "      <td> 1</td>\n",
        "      <td> 1</td>\n",
        "      <td> 33024.35</td>\n",
        "      <td> 9.1</td>\n",
        "      <td> 21</td>\n",
        "      <td> 0.1548313</td>\n",
        "      <td>  0.2538068</td>\n",
        "    </tr>\n",
        "    <tr>\n",
        "      <th>12</th>\n",
        "      <td> 98.40498</td>\n",
        "      <td> 0.6861349</td>\n",
        "      <td> 0.7342474</td>\n",
        "      <td> 0.7074696</td>\n",
        "      <td>  0.6109086</td>\n",
        "      <td> 0.7622868</td>\n",
        "      <td>  0.3602902</td>\n",
        "      <td>  0.3912582</td>\n",
        "      <td> 1</td>\n",
        "      <td> 1</td>\n",
        "      <td> 32801.39</td>\n",
        "      <td> 9.1</td>\n",
        "      <td> 16</td>\n",
        "      <td> 0.4703552</td>\n",
        "      <td>  0.2900709</td>\n",
        "    </tr>\n",
        "    <tr>\n",
        "      <th>13</th>\n",
        "      <td> 214.9639</td>\n",
        "      <td> 0.2673929</td>\n",
        "      <td>   0.73291</td>\n",
        "      <td> 0.4353818</td>\n",
        "      <td> 0.04800652</td>\n",
        "      <td> 0.6480672</td>\n",
        "      <td>          0</td>\n",
        "      <td>  0.2624588</td>\n",
        "      <td> 1</td>\n",
        "      <td> 1</td>\n",
        "      <td> 32792.45</td>\n",
        "      <td> 9.1</td>\n",
        "      <td> 19</td>\n",
        "      <td> 0.1361422</td>\n",
        "      <td>  0.2514466</td>\n",
        "    </tr>\n",
        "    <tr>\n",
        "      <th>14</th>\n",
        "      <td> 204.7863</td>\n",
        "      <td> 0.5827465</td>\n",
        "      <td> 0.1016716</td>\n",
        "      <td> 0.2828042</td>\n",
        "      <td>  0.2877498</td>\n",
        "      <td> 0.1605202</td>\n",
        "      <td> 0.08903178</td>\n",
        "      <td>          0</td>\n",
        "      <td> 1</td>\n",
        "      <td> 1</td>\n",
        "      <td> 31461.05</td>\n",
        "      <td> 9.1</td>\n",
        "      <td> 16</td>\n",
        "      <td>  0.366166</td>\n",
        "      <td>          0</td>\n",
        "    </tr>\n",
        "    <tr>\n",
        "      <th>15</th>\n",
        "      <td> 179.8584</td>\n",
        "      <td> 0.6705401</td>\n",
        "      <td> 0.4674342</td>\n",
        "      <td> 0.7645005</td>\n",
        "      <td>  0.6134455</td>\n",
        "      <td> 0.5529738</td>\n",
        "      <td>  0.9259907</td>\n",
        "      <td>   0.495312</td>\n",
        "      <td> 1</td>\n",
        "      <td> 1</td>\n",
        "      <td> 29364.13</td>\n",
        "      <td> 9.1</td>\n",
        "      <td> 23</td>\n",
        "      <td> 0.9145968</td>\n",
        "      <td>  0.3968147</td>\n",
        "    </tr>\n",
        "    <tr>\n",
        "      <th>16</th>\n",
        "      <td> 292.6291</td>\n",
        "      <td> 0.6297102</td>\n",
        "      <td> 0.1573718</td>\n",
        "      <td> 0.3300501</td>\n",
        "      <td>  0.3543191</td>\n",
        "      <td> 0.2146568</td>\n",
        "      <td>  0.1377026</td>\n",
        "      <td>          0</td>\n",
        "      <td> 1</td>\n",
        "      <td> 1</td>\n",
        "      <td> 29125.33</td>\n",
        "      <td> 9.1</td>\n",
        "      <td> 22</td>\n",
        "      <td>  0.393664</td>\n",
        "      <td>          0</td>\n",
        "    </tr>\n",
        "    <tr>\n",
        "      <th>17</th>\n",
        "      <td> 20.79663</td>\n",
        "      <td> 0.7417614</td>\n",
        "      <td> 0.7160711</td>\n",
        "      <td> 0.7546617</td>\n",
        "      <td>   0.697036</td>\n",
        "      <td> 0.7625965</td>\n",
        "      <td>  0.4444963</td>\n",
        "      <td>   0.426211</td>\n",
        "      <td> 1</td>\n",
        "      <td> 1</td>\n",
        "      <td> 27782.92</td>\n",
        "      <td> 9.1</td>\n",
        "      <td> 18</td>\n",
        "      <td> 0.5312077</td>\n",
        "      <td>  0.3172038</td>\n",
        "    </tr>\n",
        "    <tr>\n",
        "      <th>18</th>\n",
        "      <td> 357.1334</td>\n",
        "      <td> 0.6408366</td>\n",
        "      <td> 0.6329445</td>\n",
        "      <td> 0.5863634</td>\n",
        "      <td>   0.506199</td>\n",
        "      <td> 0.6439794</td>\n",
        "      <td>  0.2189021</td>\n",
        "      <td>  0.2131477</td>\n",
        "      <td> 1</td>\n",
        "      <td> 1</td>\n",
        "      <td> 27630.14</td>\n",
        "      <td> 9.1</td>\n",
        "      <td> 16</td>\n",
        "      <td> 0.3775365</td>\n",
        "      <td>  0.1143356</td>\n",
        "    </tr>\n",
        "    <tr>\n",
        "      <th>19</th>\n",
        "      <td> 274.9541</td>\n",
        "      <td> 0.5267804</td>\n",
        "      <td> 0.9668594</td>\n",
        "      <td> 0.7249941</td>\n",
        "      <td>  0.4313297</td>\n",
        "      <td> 0.9363042</td>\n",
        "      <td>  0.3118055</td>\n",
        "      <td>  0.6021061</td>\n",
        "      <td> 2</td>\n",
        "      <td> 2</td>\n",
        "      <td> 22864.04</td>\n",
        "      <td> 5.7</td>\n",
        "      <td> 15</td>\n",
        "      <td>  0.425406</td>\n",
        "      <td>  0.5372925</td>\n",
        "    </tr>\n",
        "    <tr>\n",
        "      <th>20</th>\n",
        "      <td> 115.3056</td>\n",
        "      <td> 0.5357587</td>\n",
        "      <td>  0.927098</td>\n",
        "      <td> 0.7550356</td>\n",
        "      <td>   0.449967</td>\n",
        "      <td> 0.9491253</td>\n",
        "      <td>  0.3562557</td>\n",
        "      <td>  0.6578979</td>\n",
        "      <td> 2</td>\n",
        "      <td> 2</td>\n",
        "      <td>  16127.4</td>\n",
        "      <td> 5.7</td>\n",
        "      <td> 27</td>\n",
        "      <td> 0.4571368</td>\n",
        "      <td>  0.5894344</td>\n",
        "    </tr>\n",
        "  </tbody>\n",
        "</table>\n",
        "</div>"
       ],
       "output_type": "pyout",
       "prompt_number": 110,
       "text": [
        "       angle         bl         br         cc         gbl        gbr         gtl  \\\n",
        "1   255.0775  0.6850194  0.2721588  0.4022608   0.4432762    0.32035   0.1715277   \n",
        "2   214.7972  0.3771219  0.7865661  0.5125185   0.1945201  0.7132877  0.01867838   \n",
        "3   173.6604  0.2508302  0.7057436  0.4100768  0.02128654  0.6217023           0   \n",
        "4   294.4631  0.7387147   0.581244  0.6164309    0.620275   0.614171    0.313721   \n",
        "5   135.3468  0.7681876  0.6103376  0.6624981   0.6767784  0.6499074   0.3746986   \n",
        "6   95.50572  0.0139358  0.5073109  0.2096874           0  0.4222633           0   \n",
        "7    265.153   0.690974  0.3011738  0.4180079   0.4579197   0.346495   0.1744332   \n",
        "8   22.48151  0.8412204  0.5565879  0.6670514   0.7500411   0.608038   0.4367083   \n",
        "9   151.7613  0.7695427  0.6100789   0.663324   0.6786493  0.6499298   0.3764467   \n",
        "10  203.1219  0.2690074  0.7121171  0.4199539  0.04444141   0.629662           0   \n",
        "11  27.17632  0.2935432  0.7472608  0.4531055  0.08260436  0.6640108           0   \n",
        "12  98.40498  0.6861349  0.7342474  0.7074696   0.6109086  0.7622868   0.3602902   \n",
        "13  214.9639  0.2673929    0.73291  0.4353818  0.04800652  0.6480672           0   \n",
        "14  204.7863  0.5827465  0.1016716  0.2828042   0.2877498  0.1605202  0.08903178   \n",
        "15  179.8584  0.6705401  0.4674342  0.7645005   0.6134455  0.5529738   0.9259907   \n",
        "16  292.6291  0.6297102  0.1573718  0.3300501   0.3543191  0.2146568   0.1377026   \n",
        "17  20.79663  0.7417614  0.7160711  0.7546617    0.697036  0.7625965   0.4444963   \n",
        "18  357.1334  0.6408366  0.6329445  0.5863634    0.506199  0.6439794   0.2189021   \n",
        "19  274.9541  0.5267804  0.9668594  0.7249941   0.4313297  0.9363042   0.3118055   \n",
        "20  115.3056  0.5357587   0.927098  0.7550356    0.449967  0.9491253   0.3562557   \n",
        "\n",
        "           gtr iindex ndclass      resp score size         tl          tr  \n",
        "1            0      1       1  48372.45   9.1   20  0.3959872           0  \n",
        "2     0.308489      1       1  43350.16   9.1   15  0.2191528     0.26976  \n",
        "3    0.2197353      1       1   42261.8   9.1   17  0.1115001   0.2075737  \n",
        "4    0.2102119      1       1   41610.2   9.1   44  0.4532881   0.1000481  \n",
        "5    0.2712743      1       1     41033   9.1   24   0.494057   0.1595415  \n",
        "6   0.01549074      1       1  40469.49   9.1   22          0  0.04531342  \n",
        "7            0      1       1   40022.5   9.1   16  0.3924874           0  \n",
        "8    0.2507926      1       1  39506.65   9.1   18  0.5471256   0.1333406  \n",
        "9    0.2719665      1       1  38441.79   9.1   27  0.4953586   0.1601199  \n",
        "10   0.2205331      1       1  35892.19   9.1   17  0.1224863   0.2028131  \n",
        "11   0.2718795      1       1  33024.35   9.1   21  0.1548313   0.2538068  \n",
        "12   0.3912582      1       1  32801.39   9.1   16  0.4703552   0.2900709  \n",
        "13   0.2624588      1       1  32792.45   9.1   19  0.1361422   0.2514466  \n",
        "14           0      1       1  31461.05   9.1   16   0.366166           0  \n",
        "15    0.495312      1       1  29364.13   9.1   23  0.9145968   0.3968147  \n",
        "16           0      1       1  29125.33   9.1   22   0.393664           0  \n",
        "17    0.426211      1       1  27782.92   9.1   18  0.5312077   0.3172038  \n",
        "18   0.2131477      1       1  27630.14   9.1   16  0.3775365   0.1143356  \n",
        "19   0.6021061      2       2  22864.04   5.7   15   0.425406   0.5372925  \n",
        "20   0.6578979      2       2   16127.4   5.7   27  0.4571368   0.5894344  "
       ]
      }
     ],
     "prompt_number": 110
    },
    {
     "cell_type": "code",
     "collapsed": false,
     "input": [
      "def evaluation(model, trFeats, trGnd, tsFeats, tsGnd):\n",
      "    model.fit(trFeats, trGnd)\n",
      "    predicted = model.predict(tsFeats)\n",
      "    \n",
      "    evHue = pd.DataFrame(index=np.arange(1,len(tsFeats)+1))\n",
      "    evHue.insert(0, 'Ground', tsGnd)\n",
      "    evHue.insert(1,'Predict', predicted)\n",
      "    \n",
      "    print '------------------------'\n",
      "    print 'Pearson Evaluation'\n",
      "    print evHue.corr(method='pearson')\n",
      "    print '------------------------'\n",
      "    print 'Spearman Evaluation'\n",
      "    print evHue.corr(method='spearman')\n",
      "    print '------------------------'\n",
      "    print 'Kendall Evaluation'\n",
      "    print evHue.corr(method='kendall')\n",
      "    \n",
      "    fig = mplt.figure(figsize=(14,7))\n",
      "    fig.subplots_adjust( wspace=.3)\n",
      "    ax = fig.add_subplot(1,2,1)\n",
      "    #mplt.subplot(2,2,1)\n",
      "    \n",
      "    cmap = cm.PuBu\n",
      "    cax = fig.add_axes([0.02, 0.1, 0.02, 0.8])\n",
      "    norm = mpl.colors.Normalize(vmin=1, vmax=len(tsGnd))\n",
      "    cb = mpl.colorbar.ColorbarBase(cax, cmap=cmap, norm=norm, orientation='vertical', ticks=np.arange(0, len(tsGnd)+1, 10))\n",
      "    rang = np.linspace(.1, 1, len(tsGnd))\n",
      "    \n",
      "    fit = polyfit(evHue.Ground, evHue.Predict, 1)\n",
      "    fit_fn = poly1d(fit) # fit_fn is now a function which takes in x and returns an estimate for y\n",
      "    ax.plot(np.arange(0,11), fit_fn(np.arange(0,11)), '--g', lw=3, label='Fit Line')\n",
      "    ax.scatter(evHue.Ground, evHue.Predict, s=40*rang, c=cmap(rang), label='Score')\n",
      "    ax.legend(loc=2)\n",
      "    ax.set_xlim( 0, 10)\n",
      "    ax.set_ylim( 0, 10)\n",
      "    ax.set_ylabel('Predicted')\n",
      "    ax.set_xlabel('Ground Truth')\n",
      "    \n",
      "    ax = fig.add_subplot(1,2,2)\n",
      "    ax.plot(np.arange(0,80), evHue.Ground, 'g-', label='Ground Truth')\n",
      "    ax.plot(np.arange(0,80), evHue.Predict, 'b--', lw=2, label='Predicted')\n",
      "    ax.legend()\n",
      "    ax.grid(True)\n",
      "    ax.set_ylabel('Score')\n",
      "    ax.set_xlabel('Input Image')\n",
      "    return predicted"
     ],
     "language": "python",
     "metadata": {},
     "outputs": [],
     "prompt_number": 41
    },
    {
     "cell_type": "code",
     "collapsed": false,
     "input": [
      "def revaluation(data):\n",
      "    evHue = data\n",
      "    print '------------------------'\n",
      "    print 'Pearson Evaluation'\n",
      "    print evHue.corr(method='pearson')\n",
      "    print '------------------------'\n",
      "    print 'Spearman Evaluation'\n",
      "    print evHue.corr(method='spearman')\n",
      "    print '------------------------'\n",
      "    print 'Kendall Evaluation'\n",
      "    print evHue.corr(method='kendall')\n",
      "    \n",
      "    fig = mplt.figure(figsize=(14,7))\n",
      "    fig.subplots_adjust( wspace=.3)\n",
      "    ax = fig.add_subplot(1,2,1)\n",
      "    #mplt.subplot(2,2,1)\n",
      "    \n",
      "    cmap = cm.PuBu\n",
      "    cax = fig.add_axes([0.02, 0.1, 0.02, 0.8])\n",
      "    norm = mpl.colors.Normalize(vmin=1, vmax=len(evHue))\n",
      "    cb = mpl.colorbar.ColorbarBase(cax, cmap=cmap, norm=norm, orientation='vertical', ticks=np.arange(0, len(evHue)+1, 10))\n",
      "    rang = np.linspace(.1, 1, len(evHue))\n",
      "    \n",
      "    fit = polyfit(evHue.Ground, evHue.Predict, 1)\n",
      "    fit_fn = poly1d(fit) # fit_fn is now a function which takes in x and returns an estimate for y\n",
      "    ax.plot(np.arange(0,11), fit_fn(np.arange(0,11)), '--g', lw=3, label='Fit Line')\n",
      "    ax.scatter(evHue.Ground, evHue.Predict, s=40*rang, c=cmap(rang), label='Score')\n",
      "    ax.legend(loc=2)\n",
      "    ax.set_xlim( 0, 10)\n",
      "    ax.set_ylim( 0, 10)\n",
      "    ax.set_ylabel('Predicted')\n",
      "    ax.set_xlabel('Ground Truth')\n",
      "    \n",
      "    ax = fig.add_subplot(1,2,2)\n",
      "    ax.plot(np.arange(0,80), evHue.Ground, 'g-', label='Ground Truth')\n",
      "    ax.plot(np.arange(0,80), evHue.Predict, 'b--', lw=2, label='Predicted')\n",
      "    ax.legend()\n",
      "    ax.grid(True)\n",
      "    ax.set_ylabel('Score')\n",
      "    ax.set_xlabel('Input Image')\n",
      "    #return "
     ],
     "language": "python",
     "metadata": {},
     "outputs": [],
     "prompt_number": 105
    },
    {
     "cell_type": "code",
     "collapsed": false,
     "input": [
      "trfeats = pd.DataFrame( trKeyFeats, copy=1)\n",
      "tsfeats = pd.DataFrame( tsKeyFeats, copy=1)\n",
      "if 'ndclass' in trfeats.columns:\n",
      "    del trfeats['ndclass']\n",
      "if 'score' in trfeats.columns:    \n",
      "    del trfeats['score']\n",
      "if 'ndclass' in tsfeats.columns:\n",
      "    del tsfeats['ndclass']\n",
      "if 'score' in tsfeats.columns:\n",
      "    del tsfeats['score']\n",
      "    \n",
      "print trfeats.shape\n",
      "print tsfeats.shape"
     ],
     "language": "python",
     "metadata": {},
     "outputs": [
      {
       "output_type": "stream",
       "stream": "stdout",
       "text": [
        "(9253, 14)\n",
        "(2852, 14)\n"
       ]
      }
     ],
     "prompt_number": 159
    },
    {
     "cell_type": "code",
     "collapsed": false,
     "input": [
      "rModel = sklm.ARDRegression()\n",
      "rModel.fit_intercept = 1\n",
      "rModel.fit(trfeats, trKeyFeats.score)\n",
      "r = rModel.predict(tsfeats)"
     ],
     "language": "python",
     "metadata": {},
     "outputs": [],
     "prompt_number": "*"
    },
    {
     "cell_type": "code",
     "collapsed": false,
     "input": [
      "r"
     ],
     "language": "python",
     "metadata": {},
     "outputs": [
      {
       "output_type": "pyout",
       "prompt_number": 169,
       "text": [
        "array([6.6659347611581232, 6.7796228068395958, 6.8585534048935601, ...,\n",
        "       6.4776628074136173, 6.7338164521261046, 6.5031466525690798], dtype=object)"
       ]
      }
     ],
     "prompt_number": 169
    },
    {
     "cell_type": "code",
     "collapsed": false,
     "input": [
      "result = pd.DataFrame( index=np.arange(1, len(tsKeyFeats)+1))\n",
      "result.insert(0,'iindex', tsKeyFeats['iindex'])\n",
      "result.insert(1,'score', r)\n",
      "\n",
      "#result['iindex'] = tsKeyFeats['iindex']\n",
      "pr =  result.groupby('iindex')\n",
      "nr = pd.DataFrame(index = np.arange(1, len(tsGround)+1))\n",
      "nr.insert(0, 'Ground', tsGround.score)\n",
      "nr.insert(1, 'Predict', pr.score.first().tolist())\n",
      "revaluation(nr)"
     ],
     "language": "python",
     "metadata": {},
     "outputs": [
      {
       "output_type": "stream",
       "stream": "stdout",
       "text": [
        "------------------------\n",
        "Pearson Evaluation\n",
        "           Ground   Predict\n",
        "Ground   1.000000  0.120393\n",
        "Predict  0.120393  1.000000\n",
        "------------------------\n",
        "Spearman Evaluation\n",
        "           Ground   Predict\n",
        "Ground   1.000000  0.118597\n",
        "Predict  0.118597  1.000000\n",
        "------------------------\n",
        "Kendall Evaluation\n",
        "           Ground   Predict\n",
        "Ground   1.000000  0.078497\n",
        "Predict  0.078497  1.000000"
       ]
      },
      {
       "output_type": "stream",
       "stream": "stdout",
       "text": [
        "\n"
       ]
      },
      {
       "output_type": "display_data",
       "png": "[encoded data removed]",
       "text": [
        "<matplotlib.figure.Figure at 0x13de24650>"
       ]
      }
     ],
     "prompt_number": 170
    },
    {
     "cell_type": "code",
     "collapsed": false,
     "input": [
      "nr.corr(method='pearson')"
     ],
     "language": "python",
     "metadata": {},
     "outputs": [
      {
       "html": [
        "<div style=\"max-height:1000px;max-width:1500px;overflow:auto;\">\n",
        "<table border=\"1\" class=\"dataframe\">\n",
        "  <thead>\n",
        "    <tr style=\"text-align: right;\">\n",
        "      <th></th>\n",
        "      <th>Ground</th>\n",
        "    </tr>\n",
        "  </thead>\n",
        "  <tbody>\n",
        "    <tr>\n",
        "      <th>Ground</th>\n",
        "      <td> 1</td>\n",
        "    </tr>\n",
        "  </tbody>\n",
        "</table>\n",
        "</div>"
       ],
       "output_type": "pyout",
       "prompt_number": 151,
       "text": [
        "        Ground\n",
        "Ground       1"
       ]
      }
     ],
     "prompt_number": 151
    },
    {
     "cell_type": "code",
     "collapsed": false,
     "input": [
      "del trfeats['desc']\n",
      "del tsfeats['desc']"
     ],
     "language": "python",
     "metadata": {},
     "outputs": [],
     "prompt_number": 161
    },
    {
     "cell_type": "code",
     "collapsed": false,
     "input": [],
     "language": "python",
     "metadata": {},
     "outputs": []
    }
   ],
   "metadata": {}
  }
 ]
}