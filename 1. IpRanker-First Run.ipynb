{
 "metadata": {
  "name": "1. IpRanker-First Run"
 },
 "nbformat": 3,
 "nbformat_minor": 0,
 "worksheets": [
  {
   "cells": [
    {
     "cell_type": "code",
     "collapsed": false,
     "input": [
      "#sys.path.append(\"/users/christywang/projects/ipranker\")\n",
      "#sys.path\n",
      "datapath = '/users/christywang/projects/ipranker/dataset'\n",
      "training_set = '/users/christywang/projects/ipranker/dataset/training'\n",
      "testing_set = '/users/christywang/projects/ipranker/dataset/testing'"
     ],
     "language": "python",
     "metadata": {},
     "outputs": [],
     "prompt_number": 14
    },
    {
     "cell_type": "code",
     "collapsed": false,
     "input": [
      "#traing_imgs = ImageSet()\n",
      "#%time traing_imgs.load(training_set, 'jpg')"
     ],
     "language": "python",
     "metadata": {},
     "outputs": [],
     "prompt_number": 2
    },
    {
     "cell_type": "code",
     "collapsed": false,
     "input": [
      "score_file = open(training_set+'/scores.txt', 'r')\n",
      "training_score = [line.rstrip('\\r\\n').split('\\t') for line in score_file.readlines()]"
     ],
     "language": "python",
     "metadata": {},
     "outputs": [],
     "prompt_number": 3
    },
    {
     "cell_type": "markdown",
     "metadata": {},
     "source": [
      "<h2>Handling datasets</h2>\n",
      "remove first row ['img_id', 'score']"
     ]
    },
    {
     "cell_type": "code",
     "collapsed": false,
     "input": [
      "if training_score[0][0] == 'img_id':\n",
      "    training_score.pop(0)\n",
      "print training_score[0]"
     ],
     "language": "python",
     "metadata": {},
     "outputs": [
      {
       "output_type": "stream",
       "stream": "stdout",
       "text": [
        "['1', '7.2']\n"
       ]
      }
     ],
     "prompt_number": 4
    },
    {
     "cell_type": "markdown",
     "metadata": {},
     "source": [
      "converting data"
     ]
    },
    {
     "cell_type": "code",
     "collapsed": false,
     "input": [
      "for s in training_score:\n",
      "    s[0] = int(s[0])\n",
      "    s[1] = float(s[1])\n",
      "    #1: Good, 2: Normal, 3: valueless\n",
      "    s.append(1 if s[1] > 7.0 else 2 if s[1] > 3.0 else 3)\n",
      "    #print s\n",
      "#print training_score"
     ],
     "language": "python",
     "metadata": {},
     "outputs": [],
     "prompt_number": 5
    },
    {
     "cell_type": "code",
     "collapsed": false,
     "input": [
      "import numpy as np\n",
      "from pandas import *\n",
      "import matplotlib.mlab as mlab\n",
      "import matplotlib.pyplot as plt\n",
      "from matplotlib import cm\n",
      "%pylab inline"
     ],
     "language": "python",
     "metadata": {},
     "outputs": [
      {
       "output_type": "stream",
       "stream": "stdout",
       "text": [
        "\n",
        "Welcome to pylab, a matplotlib-based Python environment [backend: module://IPython.kernel.zmq.pylab.backend_inline].\n",
        "For more information, type 'help(pylab)'.\n"
       ]
      }
     ],
     "prompt_number": 6
    },
    {
     "cell_type": "code",
     "collapsed": false,
     "input": [
      "train_index = tuple(y[0] for y in training_score)\n",
      "train_data = {'score' : Series(tuple(y[1] for y in training_score), index=train_index),\n",
      " 'class' : Series(tuple(y[2] for y in training_score), index=train_index)}\n",
      "train_frame = DataFrame(train_data)\n",
      "train_frame.describe()"
     ],
     "language": "python",
     "metadata": {},
     "outputs": [
      {
       "html": [
        "<div style=\"max-height:1000px;max-width:1500px;overflow:auto;\">\n",
        "<table border=\"1\" class=\"dataframe\">\n",
        "  <thead>\n",
        "    <tr style=\"text-align: right;\">\n",
        "      <th></th>\n",
        "      <th>class</th>\n",
        "      <th>score</th>\n",
        "    </tr>\n",
        "  </thead>\n",
        "  <tbody>\n",
        "    <tr>\n",
        "      <th>count</th>\n",
        "      <td> 309.000000</td>\n",
        "      <td> 309.000000</td>\n",
        "    </tr>\n",
        "    <tr>\n",
        "      <th>mean</th>\n",
        "      <td>   1.666667</td>\n",
        "      <td>   6.511974</td>\n",
        "    </tr>\n",
        "    <tr>\n",
        "      <th>std</th>\n",
        "      <td>   0.518072</td>\n",
        "      <td>   1.294551</td>\n",
        "    </tr>\n",
        "    <tr>\n",
        "      <th>min</th>\n",
        "      <td>   1.000000</td>\n",
        "      <td>   1.600000</td>\n",
        "    </tr>\n",
        "    <tr>\n",
        "      <th>25%</th>\n",
        "      <td>   1.000000</td>\n",
        "      <td>   5.800000</td>\n",
        "    </tr>\n",
        "    <tr>\n",
        "      <th>50%</th>\n",
        "      <td>   2.000000</td>\n",
        "      <td>   6.600000</td>\n",
        "    </tr>\n",
        "    <tr>\n",
        "      <th>75%</th>\n",
        "      <td>   2.000000</td>\n",
        "      <td>   7.400000</td>\n",
        "    </tr>\n",
        "    <tr>\n",
        "      <th>max</th>\n",
        "      <td>   3.000000</td>\n",
        "      <td>   9.800000</td>\n",
        "    </tr>\n",
        "  </tbody>\n",
        "</table>\n",
        "</div>"
       ],
       "output_type": "pyout",
       "prompt_number": 7,
       "text": [
        "            class       score\n",
        "count  309.000000  309.000000\n",
        "mean     1.666667    6.511974\n",
        "std      0.518072    1.294551\n",
        "min      1.000000    1.600000\n",
        "25%      1.000000    5.800000\n",
        "50%      2.000000    6.600000\n",
        "75%      2.000000    7.400000\n",
        "max      3.000000    9.800000"
       ]
      }
     ],
     "prompt_number": 7
    },
    {
     "cell_type": "code",
     "collapsed": false,
     "input": [
      "mu, sigma = train_frame.mean()[1], train_frame.std()[1]\n",
      "x = []\n",
      "for y in train_frame['score']:\n",
      "    x.append(1 if y > (mu+sigma) else 2 if y > (mu - sigma) else 3 )\n",
      "train_frame['ndclass'] = x\n",
      "#train_frame.values"
     ],
     "language": "python",
     "metadata": {},
     "outputs": [],
     "prompt_number": 8
    },
    {
     "cell_type": "code",
     "collapsed": false,
     "input": [
      "x = train_frame['score'] \n",
      "# the histogram of the data\n",
      "n, bins, patches = plt.hist(x, 20, facecolor='green', normed=True, alpha=0.75)\n",
      "    \n",
      "# add a 'best fit' line\n",
      "y = mlab.normpdf( bins, mu, sigma)\n",
      "l = plt.plot(bins, y, 'r--', linewidth=1)\n",
      "\n",
      "plt.xlabel('Scores')\n",
      "plt.ylabel('Probability')\n",
      "plt.title(r'$\\mathrm{Histogram\\ of\\ Training Set Scores:}\\ \\mu='+('%.2f'%mu)+',\\ \\sigma='+('%.2f'%sigma)+'$')\n",
      "plt.axis([0, 10, 0, 0.5])\n",
      "plt.grid(True)\n",
      "for p in patches:\n",
      "    if p.get_x() > (mu+sigma):\n",
      "        p.set_facecolor(cm.spring(0))\n",
      "    elif p.get_x() > (mu-sigma):\n",
      "        p.set_facecolor(cm.summer(0))\n",
      "    else:\n",
      "        p.set_facecolor(cm.winter(0))\n",
      "plt.xticks(np.arange(0, max(x)+1, 1))\n",
      "plt.show()"
     ],
     "language": "python",
     "metadata": {},
     "outputs": [
      {
       "output_type": "display_data",
       "png": "[encoded data removed]",
       "text": [
        "<matplotlib.figure.Figure at 0x10a57c890>"
       ]
      }
     ],
     "prompt_number": 9
    },
    {
     "cell_type": "code",
     "collapsed": false,
     "input": [
      "x= train_frame['ndclass']\n",
      "x.hist()\n",
      "plt.xticks(np.arange(min(x), max(x)+1, 1))"
     ],
     "language": "python",
     "metadata": {},
     "outputs": [
      {
       "output_type": "pyout",
       "prompt_number": 10,
       "text": [
        "([<matplotlib.axis.XTick at 0x10a1653d0>,\n",
        "  <matplotlib.axis.XTick at 0x10a694110>,\n",
        "  <matplotlib.axis.XTick at 0x10a665c90>],\n",
        " <a list of 3 Text xticklabel objects>)"
       ]
      },
      {
       "output_type": "display_data",
       "png": "[encoded data removed]",
       "text": [
        "<matplotlib.figure.Figure at 0x10a56c8d0>"
       ]
      }
     ],
     "prompt_number": 10
    },
    {
     "cell_type": "code",
     "collapsed": false,
     "input": [
      "train_frame.to_csv(datapath + '/training_pped.csv')"
     ],
     "language": "python",
     "metadata": {},
     "outputs": [],
     "prompt_number": 15
    },
    {
     "cell_type": "markdown",
     "metadata": {},
     "source": [
      "<h1>Trainging</h1>\n",
      "<ul>\n",
      "    <li>Regression</li>\n",
      "\n",
      "</ul>"
     ]
    }
   ],
   "metadata": {}
  }
 ]
}